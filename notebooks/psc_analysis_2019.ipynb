{
 "cells": [
  {
   "cell_type": "markdown",
   "metadata": {
    "toc": true
   },
   "source": [
    "<h1>Table of Contents<span class=\"tocSkip\"></span></h1>\n",
    "<div class=\"toc\"><ul class=\"toc-item\"><li><span><a href=\"#Data-loading-and-preparation\" data-toc-modified-id=\"Data-loading-and-preparation-1\"><span class=\"toc-item-num\">1&nbsp;&nbsp;</span>Data loading and preparation</a></span><ul class=\"toc-item\"><li><span><a href=\"#Load-data\" data-toc-modified-id=\"Load-data-1.1\"><span class=\"toc-item-num\">1.1&nbsp;&nbsp;</span>Load data</a></span></li><li><span><a href=\"#Helper-functions\" data-toc-modified-id=\"Helper-functions-1.2\"><span class=\"toc-item-num\">1.2&nbsp;&nbsp;</span>Helper functions</a></span></li></ul></li><li><span><a href=\"#Analysis\" data-toc-modified-id=\"Analysis-2\"><span class=\"toc-item-num\">2&nbsp;&nbsp;</span>Analysis</a></span><ul class=\"toc-item\"><li><span><a href=\"#Basic-summaries-and-counts\" data-toc-modified-id=\"Basic-summaries-and-counts-2.1\"><span class=\"toc-item-num\">2.1&nbsp;&nbsp;</span>Basic summaries and counts</a></span><ul class=\"toc-item\"><li><span><a href=\"#How-many-live-companies-are-there-in-Companies-House?\" data-toc-modified-id=\"How-many-live-companies-are-there-in-Companies-House?-2.1.1\"><span class=\"toc-item-num\">2.1.1&nbsp;&nbsp;</span>How many live companies are there in Companies House?</a></span></li><li><span><a href=\"#How-many-live-companies-are-there-to-which-the-PSC-regime-applies?\" data-toc-modified-id=\"How-many-live-companies-are-there-to-which-the-PSC-regime-applies?-2.1.2\"><span class=\"toc-item-num\">2.1.2&nbsp;&nbsp;</span>How many live companies are there to which the PSC regime applies?</a></span></li><li><span><a href=\"#How-many-companies-to-which-the-PSC-regime-applies-have-filed-at-least-one-PSC-(individual,-corporate,-legal-person-or-super-secure-person)?\" data-toc-modified-id=\"How-many-companies-to-which-the-PSC-regime-applies-have-filed-at-least-one-PSC-(individual,-corporate,-legal-person-or-super-secure-person)?-2.1.3\"><span class=\"toc-item-num\">2.1.3&nbsp;&nbsp;</span>How many companies to which the PSC regime applies have filed at least one PSC (individual, corporate, legal person or super secure person)?</a></span></li><li><span><a href=\"#What-proportion-of-live-companies-to-which-the-PSC-regime-applies-have-not-filed-a-PSC?\" data-toc-modified-id=\"What-proportion-of-live-companies-to-which-the-PSC-regime-applies-have-not-filed-a-PSC?-2.1.4\"><span class=\"toc-item-num\">2.1.4&nbsp;&nbsp;</span>What proportion of live companies to which the PSC regime applies have not filed a PSC?</a></span></li><li><span><a href=\"#How-many-live-companies-have-filed-a-PSC-statement-of-some-kind-e.g.-no-PSC,-steps-to-find-PSC-not-completed?\" data-toc-modified-id=\"How-many-live-companies-have-filed-a-PSC-statement-of-some-kind-e.g.-no-PSC,-steps-to-find-PSC-not-completed?-2.1.5\"><span class=\"toc-item-num\">2.1.5&nbsp;&nbsp;</span>How many live companies have filed a PSC statement of some kind e.g. no PSC, steps to find PSC not completed?</a></span></li><li><span><a href=\"#How-many-live-companies-have-disclosed-at-least-one-indvidual-PSC?\" data-toc-modified-id=\"How-many-live-companies-have-disclosed-at-least-one-indvidual-PSC?-2.1.6\"><span class=\"toc-item-num\">2.1.6&nbsp;&nbsp;</span>How many live companies have disclosed at least one indvidual PSC?</a></span></li><li><span><a href=\"#What-proprotion-of-companies-to-which-the-PSC-regime-applies-have-directly-disclosed-at-least-one-individual-PSC?\" data-toc-modified-id=\"What-proprotion-of-companies-to-which-the-PSC-regime-applies-have-directly-disclosed-at-least-one-individual-PSC?-2.1.7\"><span class=\"toc-item-num\">2.1.7&nbsp;&nbsp;</span>What proprotion of companies to which the PSC regime applies have directly disclosed at least one individual PSC?</a></span></li><li><span><a href=\"#Since-the-register-started,-how-many-unique-companies-have-filed-either-a-statement-or-at-least-one-PSC?\" data-toc-modified-id=\"Since-the-register-started,-how-many-unique-companies-have-filed-either-a-statement-or-at-least-one-PSC?-2.1.8\"><span class=\"toc-item-num\">2.1.8&nbsp;&nbsp;</span>Since the register started, how many unique companies have filed either a statement <strong>or</strong> at least one PSC?</a></span></li><li><span><a href=\"#How-many-live-companies-to-which-the-PSC-regime-applies-have-not-filed-a-PSC-statement-or-a-PSC-of-any-kind?\" data-toc-modified-id=\"How-many-live-companies-to-which-the-PSC-regime-applies-have-not-filed-a-PSC-statement-or-a-PSC-of-any-kind?-2.1.9\"><span class=\"toc-item-num\">2.1.9&nbsp;&nbsp;</span>How many live companies to which the PSC regime applies have not filed a PSC statement or a PSC of any kind?</a></span></li><li><span><a href=\"#What-types-of-control-do-PSCs-exercise-over-companies?\" data-toc-modified-id=\"What-types-of-control-do-PSCs-exercise-over-companies?-2.1.10\"><span class=\"toc-item-num\">2.1.10&nbsp;&nbsp;</span>What types of control do PSCs exercise over companies?</a></span><ul class=\"toc-item\"><li><span><a href=\"#Grouped-list\" data-toc-modified-id=\"Grouped-list-2.1.10.1\"><span class=\"toc-item-num\">2.1.10.1&nbsp;&nbsp;</span>Grouped list</a></span></li><li><span><a href=\"#Top-10-using-Companies-House-more-granular-categories-given-in-the-original-data\" data-toc-modified-id=\"Top-10-using-Companies-House-more-granular-categories-given-in-the-original-data-2.1.10.2\"><span class=\"toc-item-num\">2.1.10.2&nbsp;&nbsp;</span>Top 10 using Companies House more granular categories given in the original data</a></span></li></ul></li><li><span><a href=\"#How-many-live-companies-currently-declare-they-are-controlled-by-trusts-in-some-way?\" data-toc-modified-id=\"How-many-live-companies-currently-declare-they-are-controlled-by-trusts-in-some-way?-2.1.11\"><span class=\"toc-item-num\">2.1.11&nbsp;&nbsp;</span>How many live companies currently declare they are controlled by trusts in some way?</a></span></li><li><span><a href=\"#What-are-the-nationalities-of-PSCs?\" data-toc-modified-id=\"What-are-the-nationalities-of-PSCs?-2.1.12\"><span class=\"toc-item-num\">2.1.12&nbsp;&nbsp;</span>What are the nationalities of PSCs?</a></span></li><li><span><a href=\"#What-are-the-different-types-of-PSC-in-the-register?\" data-toc-modified-id=\"What-are-the-different-types-of-PSC-in-the-register?-2.1.13\"><span class=\"toc-item-num\">2.1.13&nbsp;&nbsp;</span>What are the different types of PSC in the register?</a></span></li><li><span><a href=\"#How-many-live-companies-currently-claim-a-trading-exemption-of-some-kind?\" data-toc-modified-id=\"How-many-live-companies-currently-claim-a-trading-exemption-of-some-kind?-2.1.14\"><span class=\"toc-item-num\">2.1.14&nbsp;&nbsp;</span>How many live companies currently claim a trading exemption of some kind?</a></span></li><li><span><a href=\"#What-are-the-reasons-given-as-to-why-a-company-is-unable-to-file-a-PSC-in-its-statement?\" data-toc-modified-id=\"What-are-the-reasons-given-as-to-why-a-company-is-unable-to-file-a-PSC-in-its-statement?-2.1.15\"><span class=\"toc-item-num\">2.1.15&nbsp;&nbsp;</span>What are the reasons given as to why a company is unable to file a PSC in its statement?</a></span></li><li><span><a href=\"#How-many-companies-are-disclosing-a-statement-that-they-have-no-PSC?\" data-toc-modified-id=\"How-many-companies-are-disclosing-a-statement-that-they-have-no-PSC?-2.1.16\"><span class=\"toc-item-num\">2.1.16&nbsp;&nbsp;</span>How many companies are disclosing a statement that they have no PSC?</a></span></li><li><span><a href=\"#Number-of-companies-that-have-a-no-PSC-statement-or-a-no-PSC-statment-at-the-&quot;top-of-a-chain&quot;\" data-toc-modified-id=\"Number-of-companies-that-have-a-no-PSC-statement-or-a-no-PSC-statment-at-the-&quot;top-of-a-chain&quot;-2.1.17\"><span class=\"toc-item-num\">2.1.17&nbsp;&nbsp;</span>Number of companies that have a no PSC statement or a no PSC statment at the \"top of a chain\"</a></span></li><li><span><a href=\"#How-many-PSCs-are-there-per-company?\" data-toc-modified-id=\"How-many-PSCs-are-there-per-company?-2.1.18\"><span class=\"toc-item-num\">2.1.18&nbsp;&nbsp;</span>How many PSCs are there per company?</a></span></li><li><span><a href=\"#What-proportion-of-live-companies-are-struggling-to-find-their-PSC-by-company-type?\" data-toc-modified-id=\"What-proportion-of-live-companies-are-struggling-to-find-their-PSC-by-company-type?-2.1.19\"><span class=\"toc-item-num\">2.1.19&nbsp;&nbsp;</span>What proportion of live companies are struggling to find their PSC by company type?</a></span></li></ul></li><li><span><a href=\"#Issues-with-data-quality-in-the-PSC-register\" data-toc-modified-id=\"Issues-with-data-quality-in-the-PSC-register-2.2\"><span class=\"toc-item-num\">2.2&nbsp;&nbsp;</span>Issues with data quality in the PSC register</a></span><ul class=\"toc-item\"><li><span><a href=\"#Is-it-possible-to-report-that-you-have-no-PSC-while-also-reporting-a-PSC-that-is-currently-active?\" data-toc-modified-id=\"Is-it-possible-to-report-that-you-have-no-PSC-while-also-reporting-a-PSC-that-is-currently-active?-2.2.1\"><span class=\"toc-item-num\">2.2.1&nbsp;&nbsp;</span>Is it possible to report that you have no PSC while also reporting a PSC that is currently active?</a></span></li><li><span><a href=\"#Implausible-dates-of-birth\" data-toc-modified-id=\"Implausible-dates-of-birth-2.2.2\"><span class=\"toc-item-num\">2.2.2&nbsp;&nbsp;</span>Implausible dates of birth</a></span><ul class=\"toc-item\"><li><span><a href=\"#The-addresses-which-have-the-most-companies-with-very-young-PSCs-registered-there\" data-toc-modified-id=\"The-addresses-which-have-the-most-companies-with-very-young-PSCs-registered-there-2.2.2.1\"><span class=\"toc-item-num\">2.2.2.1&nbsp;&nbsp;</span>The addresses which have the most companies with very young PSCs registered there</a></span></li></ul></li></ul></li><li><span><a href=\"#Indicators-of-the-extent-possible-non-compliance-to-the-PSC-regime\" data-toc-modified-id=\"Indicators-of-the-extent-possible-non-compliance-to-the-PSC-regime-2.3\"><span class=\"toc-item-num\">2.3&nbsp;&nbsp;</span>Indicators of the extent possible non-compliance to the PSC regime</a></span><ul class=\"toc-item\"><li><span><a href=\"#Potential-nominee-PSCs\" data-toc-modified-id=\"Potential-nominee-PSCs-2.3.1\"><span class=\"toc-item-num\">2.3.1&nbsp;&nbsp;</span>Potential nominee PSCs</a></span><ul class=\"toc-item\"><li><span><a href=\"#Which-PSCs-currently-control-the-most-number-of-companies?\" data-toc-modified-id=\"Which-PSCs-currently-control-the-most-number-of-companies?-2.3.1.1\"><span class=\"toc-item-num\">2.3.1.1&nbsp;&nbsp;</span>Which PSCs currently control the most number of companies?</a></span></li><li><span><a href=\"#How-many-PSCs-control-over-100-companies?\" data-toc-modified-id=\"How-many-PSCs-control-over-100-companies?-2.3.1.2\"><span class=\"toc-item-num\">2.3.1.2&nbsp;&nbsp;</span>How many PSCs control over 100 companies?</a></span></li></ul></li><li><span><a href=\"#How-many-companies-are-controlled-by-PSCs-that-control-over-100-companies?\" data-toc-modified-id=\"How-many-companies-are-controlled-by-PSCs-that-control-over-100-companies?-2.3.2\"><span class=\"toc-item-num\">2.3.2&nbsp;&nbsp;</span>How many companies are controlled by PSCs that control over 100 companies?</a></span></li><li><span><a href=\"#How-many-companies-are-directed-by-individuals-that-direct-over-100-companies?\" data-toc-modified-id=\"How-many-companies-are-directed-by-individuals-that-direct-over-100-companies?-2.3.3\"><span class=\"toc-item-num\">2.3.3&nbsp;&nbsp;</span>How many companies are directed by individuals that direct over 100 companies?</a></span></li><li><span><a href=\"#Number-of-directors-that-direct-over-100-companies\" data-toc-modified-id=\"Number-of-directors-that-direct-over-100-companies-2.3.4\"><span class=\"toc-item-num\">2.3.4&nbsp;&nbsp;</span>Number of directors that direct over 100 companies</a></span></li><li><span><a href=\"#Corporate-PSCs-that-are-likely-not-Relevant-Legal-Entities\" data-toc-modified-id=\"Corporate-PSCs-that-are-likely-not-Relevant-Legal-Entities-2.3.5\"><span class=\"toc-item-num\">2.3.5&nbsp;&nbsp;</span>Corporate PSCs that are likely not Relevant Legal Entities</a></span><ul class=\"toc-item\"><li><span><a href=\"#Number-of-companies-controlled-by-companies-that-are-registered-or-located-in-countries-without-recognised-stock-exchanges-(i.e.-not-in-in-the-European-Economic-Area,-Japan,-Israel,-Switzerland,-USA)\" data-toc-modified-id=\"Number-of-companies-controlled-by-companies-that-are-registered-or-located-in-countries-without-recognised-stock-exchanges-(i.e.-not-in-in-the-European-Economic-Area,-Japan,-Israel,-Switzerland,-USA)-2.3.5.1\"><span class=\"toc-item-num\">2.3.5.1&nbsp;&nbsp;</span>Number of companies controlled by companies that are registered or located in countries without recognised stock exchanges (i.e. not in in the European Economic Area, Japan, Israel, Switzerland, USA)</a></span></li><li><span><a href=\"#Number-and-proportion-of-likely-non-RLE-PSCs-that-are-located-or-registered-in-secrecy-jurisdictions\" data-toc-modified-id=\"Number-and-proportion-of-likely-non-RLE-PSCs-that-are-located-or-registered-in-secrecy-jurisdictions-2.3.5.2\"><span class=\"toc-item-num\">2.3.5.2&nbsp;&nbsp;</span>Number and proportion of likely non-RLE PSCs that are located or registered in secrecy jurisdictions</a></span></li><li><span><a href=\"#How-many-companies-declare-that-at-least-one-of-their-PSCs-are-companies-in-secrecy-jurisdictions?\" data-toc-modified-id=\"How-many-companies-declare-that-at-least-one-of-their-PSCs-are-companies-in-secrecy-jurisdictions?-2.3.5.3\"><span class=\"toc-item-num\">2.3.5.3&nbsp;&nbsp;</span>How many companies declare that at least one of their PSCs are companies in secrecy jurisdictions?</a></span></li><li><span><a href=\"#How-many-companies-are-controlled-directly-or-indirectly-by-companies-that-are-registered-or-located-in-countries-where-they-are-unlikely-to-be-RLEs?\" data-toc-modified-id=\"How-many-companies-are-controlled-directly-or-indirectly-by-companies-that-are-registered-or-located-in-countries-where-they-are-unlikely-to-be-RLEs?-2.3.5.4\"><span class=\"toc-item-num\">2.3.5.4&nbsp;&nbsp;</span>How many companies are controlled directly or indirectly by companies that are registered or located in countries where they are unlikely to be RLEs?</a></span></li><li><span><a href=\"#How-many-companies-are-controlled-by-a-non-RLE-company,-directly-or-indirectly,-which-is-also-based-in-a-secrecy-jurisdiction?\" data-toc-modified-id=\"How-many-companies-are-controlled-by-a-non-RLE-company,-directly-or-indirectly,-which-is-also-based-in-a-secrecy-jurisdiction?-2.3.5.5\"><span class=\"toc-item-num\">2.3.5.5&nbsp;&nbsp;</span>How many companies are controlled by a non-RLE company, directly or indirectly, which is also based in a secrecy jurisdiction?</a></span></li><li><span><a href=\"#How-many-companies-are-controlled-directly-or-indirectly-by-a-company-based-in-a-secrecy-jurisdiction?\" data-toc-modified-id=\"How-many-companies-are-controlled-directly-or-indirectly-by-a-company-based-in-a-secrecy-jurisdiction?-2.3.5.6\"><span class=\"toc-item-num\">2.3.5.6&nbsp;&nbsp;</span>How many companies are controlled directly or indirectly by a company based in a secrecy jurisdiction?</a></span></li><li><span><a href=\"#What-are-the-most-popular-registered-addresses-of-companies-that-likely-have-non-RLE-foreign-corporate-PSCs?\" data-toc-modified-id=\"What-are-the-most-popular-registered-addresses-of-companies-that-likely-have-non-RLE-foreign-corporate-PSCs?-2.3.5.7\"><span class=\"toc-item-num\">2.3.5.7&nbsp;&nbsp;</span>What are the most popular registered addresses of companies that likely have non-RLE foreign corporate PSCs?</a></span></li><li><span><a href=\"#What-are-the-most-popular-registered-addresses-of-companies-that-have-corporate-PSCs-in-secrecy-jurisdictions?\" data-toc-modified-id=\"What-are-the-most-popular-registered-addresses-of-companies-that-have-corporate-PSCs-in-secrecy-jurisdictions?-2.3.5.8\"><span class=\"toc-item-num\">2.3.5.8&nbsp;&nbsp;</span>What are the most popular registered addresses of companies that have corporate PSCs in secrecy jurisdictions?</a></span></li><li><span><a href=\"#What-are-the-most-popular-secrecy-jurisdictions-for-corporate-PSCs-to-be-registered?\" data-toc-modified-id=\"What-are-the-most-popular-secrecy-jurisdictions-for-corporate-PSCs-to-be-registered?-2.3.5.9\"><span class=\"toc-item-num\">2.3.5.9&nbsp;&nbsp;</span>What are the most popular secrecy jurisdictions for corporate PSCs to be registered?</a></span></li><li><span><a href=\"#How-many-companies-declare-that-all-of-their-PSCs-are-companies-based-in-secrecy-jurisdictions?\" data-toc-modified-id=\"How-many-companies-declare-that-all-of-their-PSCs-are-companies-based-in-secrecy-jurisdictions?-2.3.5.10\"><span class=\"toc-item-num\">2.3.5.10&nbsp;&nbsp;</span>How many companies declare that <em>all</em> of their PSCs are companies based in secrecy jurisdictions?</a></span></li></ul></li><li><span><a href=\"#Filing-&quot;no-PSC&quot;-statements\" data-toc-modified-id=\"Filing-&quot;no-PSC&quot;-statements-2.3.6\"><span class=\"toc-item-num\">2.3.6&nbsp;&nbsp;</span>Filing \"no PSC\" statements</a></span><ul class=\"toc-item\"><li><span><a href=\"#How-does-the-proportion-of-no-PSC-statements-vary-across-different-company-types?\" data-toc-modified-id=\"How-does-the-proportion-of-no-PSC-statements-vary-across-different-company-types?-2.3.6.1\"><span class=\"toc-item-num\">2.3.6.1&nbsp;&nbsp;</span>How does the proportion of no PSC statements vary across different company types?</a></span></li><li><span><a href=\"#Which-addresses-have-the-largest-volume-and-proportion-of-no-PSC-filings?\" data-toc-modified-id=\"Which-addresses-have-the-largest-volume-and-proportion-of-no-PSC-filings?-2.3.6.2\"><span class=\"toc-item-num\">2.3.6.2&nbsp;&nbsp;</span>Which addresses have the largest volume and proportion of no PSC filings?</a></span></li></ul></li><li><span><a href=\"#Circular-control-structure\" data-toc-modified-id=\"Circular-control-structure-2.3.7\"><span class=\"toc-item-num\">2.3.7&nbsp;&nbsp;</span>Circular control structure</a></span><ul class=\"toc-item\"><li><span><a href=\"#How-many-unique-companies-are-part-of-circular-control-structures?\" data-toc-modified-id=\"How-many-unique-companies-are-part-of-circular-control-structures?-2.3.7.1\"><span class=\"toc-item-num\">2.3.7.1&nbsp;&nbsp;</span>How many unique companies are part of circular control structures?</a></span></li><li><span><a href=\"#How-many-companies-control-themselves?\" data-toc-modified-id=\"How-many-companies-control-themselves?-2.3.7.2\"><span class=\"toc-item-num\">2.3.7.2&nbsp;&nbsp;</span>How many companies control themselves?</a></span></li></ul></li></ul></li><li><span><a href=\"#Company-factories\" data-toc-modified-id=\"Company-factories-2.4\"><span class=\"toc-item-num\">2.4&nbsp;&nbsp;</span>Company factories</a></span><ul class=\"toc-item\"><li><span><a href=\"#What-are-the-most-common-registered-addresses-for-live-companies?\" data-toc-modified-id=\"What-are-the-most-common-registered-addresses-for-live-companies?-2.4.1\"><span class=\"toc-item-num\">2.4.1&nbsp;&nbsp;</span>What are the most common registered addresses for live companies?</a></span></li><li><span><a href=\"#Which-addresses-have-the-largest-number-of-PSCs-registered-there?\" data-toc-modified-id=\"Which-addresses-have-the-largest-number-of-PSCs-registered-there?-2.4.2\"><span class=\"toc-item-num\">2.4.2&nbsp;&nbsp;</span>Which addresses have the largest number of PSCs registered there?</a></span></li></ul></li><li><span><a href=\"#Scottlish-Limited-Partnerships-(SLPs)-and-the-PSC-regime\" data-toc-modified-id=\"Scottlish-Limited-Partnerships-(SLPs)-and-the-PSC-regime-2.5\"><span class=\"toc-item-num\">2.5&nbsp;&nbsp;</span>Scottlish Limited Partnerships (SLPs) and the PSC regime</a></span><ul class=\"toc-item\"><li><span><a href=\"#Total-number-of-SLPs-in-live-companies-dataset\" data-toc-modified-id=\"Total-number-of-SLPs-in-live-companies-dataset-2.5.1\"><span class=\"toc-item-num\">2.5.1&nbsp;&nbsp;</span>Total number of SLPs in live companies dataset</a></span></li><li><span><a href=\"#Most-popular-registered-addresses-for-SLPs\" data-toc-modified-id=\"Most-popular-registered-addresses-for-SLPs-2.5.2\"><span class=\"toc-item-num\">2.5.2&nbsp;&nbsp;</span>Most popular registered addresses for SLPs</a></span></li><li><span><a href=\"#Incorporation-rate-of-SLPs\" data-toc-modified-id=\"Incorporation-rate-of-SLPs-2.5.3\"><span class=\"toc-item-num\">2.5.3&nbsp;&nbsp;</span>Incorporation rate of SLPs</a></span><ul class=\"toc-item\"><li><span><a href=\"#How-does-this-compare-to-other-Partnership-types-not-covered-by-thge-PSC-legislation?\" data-toc-modified-id=\"How-does-this-compare-to-other-Partnership-types-not-covered-by-thge-PSC-legislation?-2.5.3.1\"><span class=\"toc-item-num\">2.5.3.1&nbsp;&nbsp;</span>How does this compare to other Partnership types not covered by thge PSC legislation?</a></span></li></ul></li><li><span><a href=\"#How-many-and-what-proportion-of-SLPs-have-reported-that-they-have-at-least-one-PSC?\" data-toc-modified-id=\"How-many-and-what-proportion-of-SLPs-have-reported-that-they-have-at-least-one-PSC?-2.5.4\"><span class=\"toc-item-num\">2.5.4&nbsp;&nbsp;</span>How many and what proportion of SLPs have reported that they have at least one PSC?</a></span></li><li><span><a href=\"#How-many-and-what-proportion-of-SLPs-have-filed-a-statement-of-any-kind?\" data-toc-modified-id=\"How-many-and-what-proportion-of-SLPs-have-filed-a-statement-of-any-kind?-2.5.5\"><span class=\"toc-item-num\">2.5.5&nbsp;&nbsp;</span>How many and what proportion of SLPs have filed a statement of any kind?</a></span></li><li><span><a href=\"#What-nationality-are-PSCs-for-SLPs?\" data-toc-modified-id=\"What-nationality-are-PSCs-for-SLPs?-2.5.6\"><span class=\"toc-item-num\">2.5.6&nbsp;&nbsp;</span>What nationality are PSCs for SLPs?</a></span></li><li><span><a href=\"#What-proportion-of-SLP-PSCs-have-an-addresses-or-a-nationality-from-a-from--former-Soviet-country?\" data-toc-modified-id=\"What-proportion-of-SLP-PSCs-have-an-addresses-or-a-nationality-from-a-from--former-Soviet-country?-2.5.7\"><span class=\"toc-item-num\">2.5.7&nbsp;&nbsp;</span>What proportion of SLP PSCs have an addresses or a nationality from a from  former Soviet country?</a></span></li></ul></li></ul></li><li><span><a href=\"#Red-flags\" data-toc-modified-id=\"Red-flags-3\"><span class=\"toc-item-num\">3&nbsp;&nbsp;</span>Red flags</a></span><ul class=\"toc-item\"><li><span><a href=\"#Distribution-of-the-number-of-red-flags-per-company\" data-toc-modified-id=\"Distribution-of-the-number-of-red-flags-per-company-3.1\"><span class=\"toc-item-num\">3.1&nbsp;&nbsp;</span>Distribution of the number of red flags per company</a></span></li></ul></li></ul></div>"
   ]
  },
  {
   "cell_type": "markdown",
   "metadata": {},
   "source": [
    "# Data loading and preparation"
   ]
  },
  {
   "cell_type": "code",
   "execution_count": 1,
   "metadata": {},
   "outputs": [
    {
     "name": "stdout",
     "output_type": "stream",
     "text": [
      "Neo URL········\n",
      "Neo4J user········\n",
      "Neo4J pswd········\n",
      "AWS key········\n",
      "AWS secret········\n"
     ]
    }
   ],
   "source": [
    "import pandas as pd\n",
    "from pandas import Timestamp\n",
    "import numpy as np\n",
    "import re\n",
    "from datetime import datetime, timedelta\n",
    "from dateutil.relativedelta import relativedelta\n",
    "import seaborn as sns\n",
    "from py2neo import Graph\n",
    "import missingno as msno\n",
    "import getpass\n",
    "import s3fs\n",
    "\n",
    "%matplotlib inline\n",
    "\n",
    "pd.options.display.float_format = '{:20,.2f}'.format\n",
    "pd.set_option('display.max_columns', 500)\n",
    "\n",
    "neo_url = getpass.getpass('Neo URL')\n",
    "neo_user = getpass.getpass('Neo4J user')\n",
    "neo_pswd = getpass.getpass('Neo4J pswd')\n",
    "graph = Graph(\n",
    "    neo_url,\n",
    "    auth=(neo_user, neo_pswd),\n",
    "    secure=True)\n",
    "\n",
    "aws_key = getpass.getpass('AWS key')\n",
    "aws_secret = getpass.getpass('AWS secret')\n",
    "fs = s3fs.S3FileSystem(\n",
    "    key=aws_key, secret=aws_secret,\n",
    "    anon=False)  # create aws s3 filesystem\n",
    "\n",
    "ROOT_DIR = 'private-gw/psc-2019/'"
   ]
  },
  {
   "cell_type": "markdown",
   "metadata": {},
   "source": [
    "## Load data"
   ]
  },
  {
   "cell_type": "markdown",
   "metadata": {},
   "source": [
    "* PSC snapshot from 2019-3-5\n",
    "* Live companies snapshot from 2019-3-1\n",
    "* Officers data from 2019-3-1\n",
    "* Disqualified directors data from 2019-3-1\n",
    "* EveryPolitican data from 2019-4-1\n",
    "\n",
    "*More details on data including data dictionaries in Github readme*"
   ]
  },
  {
   "cell_type": "code",
   "execution_count": 2,
   "metadata": {},
   "outputs": [
    {
     "name": "stderr",
     "output_type": "stream",
     "text": [
      "/usr/local/lib/python3.5/dist-packages/IPython/core/interactiveshell.py:2728: DtypeWarning: Columns (3,15,58,59,60) have mixed types. Specify dtype option on import or set low_memory=False.\n",
      "  interactivity=interactivity, compiler=compiler, result=result)\n",
      "/usr/local/lib/python3.5/dist-packages/IPython/core/interactiveshell.py:2728: DtypeWarning: Columns (33,34,47) have mixed types. Specify dtype option on import or set low_memory=False.\n",
      "  interactivity=interactivity, compiler=compiler, result=result)\n"
     ]
    }
   ],
   "source": [
    "live_companies = pd.read_csv(\n",
    "    fs.open('{}processed/companies.csv'.format(ROOT_DIR)), parse_dates=['incorporation_date_formatted'], low_memory=False)\n",
    "active_psc_records = pd.read_csv(fs.open('{}processed/active_psc_records.csv'.format(\n",
    "    ROOT_DIR)), parse_dates=['month_year_birth'], low_memory=False)\n",
    "ceased_psc_records = pd.read_csv(fs.open(\n",
    "    '{}processed/ceased_psc_records.csv'.format(ROOT_DIR)), parse_dates=['month_year_birth'])\n",
    "active_psc_statements = pd.read_csv(fs.open('{}processed/active_psc_statements.csv'.format(\n",
    "    ROOT_DIR)), parse_dates=['month_year_birth'], low_memory=False)\n",
    "ceased_psc_statements = pd.read_csv(fs.open(\n",
    "    '{}processed/ceased_psc_statements.csv'.format(ROOT_DIR)), parse_dates=['month_year_birth'])\n",
    "active_psc_controls = pd.read_csv(fs.open(\n",
    "    '{}processed/active_psc_controls.csv'.format(ROOT_DIR)), low_memory=False)\n",
    "active_exemptions = pd.read_csv(fs.open(\n",
    "    '{}processed/active_exemption_records.csv'.format(ROOT_DIR)), low_memory=False)\n",
    "ceased_exemptions = pd.read_csv(fs.open(\n",
    "    '{}processed/ceased_exemption_records.csv'.format(ROOT_DIR)), low_memory=False)\n",
    "active_officers = pd.read_csv(fs.open(\n",
    "    '{}processed/active_officers.csv'.format(ROOT_DIR)), low_memory=False)\n",
    "politicians = pd.read_csv(\n",
    "    fs.open('{}processed/politicians.csv'.format(ROOT_DIR)), low_memory=False)"
   ]
  },
  {
   "cell_type": "markdown",
   "metadata": {},
   "source": [
    "## Helper functions"
   ]
  },
  {
   "cell_type": "code",
   "execution_count": 3,
   "metadata": {},
   "outputs": [],
   "source": [
    "def write_csv_s3(df, filename, fs):\n",
    "    if df is None:\n",
    "        print('Empty df, no CSV for {} written...'.format(filename))\n",
    "    else:\n",
    "        filename = filename\n",
    "        with fs.open('{}{}.csv'.format(ROOT_DIR, filename), 'w') as f:\n",
    "            df.to_csv(f, chunksize=100000, index=False)\n",
    "        print('Wrote {} to CSV'.format(filename))\n",
    "\n",
    "\n",
    "def proportion_and_count(df, column_label, denominator):\n",
    "    s = df[column_label]\n",
    "    count = s.value_counts(normalize=False)\n",
    "    proportion = count / denominator\n",
    "    temp_df = pd.concat([proportion, count], axis=1)\n",
    "    temp_df.columns = ['proportion', 'count']\n",
    "    return temp_df.sort_values(by='count', ascending=False)\n",
    "\n",
    "\n",
    "def count_pscs_from_address(df, top_slice_num):\n",
    "    temp_company_numbers = active_companies[active_companies['first_and_postcode'].isin(\n",
    "        df.reset_index()['first_and_postcode'])]['company_number']\n",
    "    temp_pscs = active_psc_records[active_psc_records.company_number.isin(\n",
    "        temp_company_numbers)]\n",
    "    return temp_pscs.groupby(['name_elements_forename',\n",
    "                              'name_elements_surname',\n",
    "                              'month_year_birth',\n",
    "                              'address_address_line_1',\n",
    "                              'address_postal_code'])[['company_number']].agg(\n",
    "        unique_company_count).sort_values(\n",
    "        by='company_number', ascending=False).head(top_slice_num)\n",
    "\n",
    "\n",
    "def count_pscs_from_companies(df, top_slice_num):\n",
    "    temp_company_numbers = df.company_number.unique()\n",
    "    temp_pscs = active_psc_records[active_psc_records.company_number.isin(\n",
    "        temp_company_numbers)]\n",
    "    return temp_pscs.groupby(['name_elements_forename',\n",
    "                              'name_elements.surname',\n",
    "                              'month_year_birth',\n",
    "                              'address_address_line_1',\n",
    "                              'address.postal_code'])[['company_number']].agg(\n",
    "        unique_company_count).sort_values(\n",
    "        by='company_number', ascending=False).head(top_slice_num)\n",
    "\n",
    "\n",
    "def group_string(x):\n",
    "    for key in control_type_mapping.keys():\n",
    "        if key in x:\n",
    "            output = control_type_mapping[key]\n",
    "            break\n",
    "        else:\n",
    "            output = \"Can't group!\"\n",
    "    return output\n",
    "\n",
    "\n",
    "def controlled_by_popular_person(df, threshold):\n",
    "    grouped = active_psc_records.groupby(\n",
    "        ['name_elements_forename',\n",
    "         'name_elements_surname',\n",
    "         'month_year_birth',\n",
    "         'address_postal_code'])\n",
    "    groups = grouped.size()\n",
    "    groups = groups[groups > threshold]\n",
    "    groups = groups.index.values\n",
    "    company_numbers = []\n",
    "    for group in groups:\n",
    "        l = grouped.get_group(group).company_number.tolist()\n",
    "        company_numbers.extend(l)\n",
    "    return df[df.company_number.isin(company_numbers)]\n",
    "\n",
    "\n",
    "def directed_by_popular_person(df, threshold):\n",
    "    grouped = df[(df.appointment_type == 1) & (df.corporate_indicator != 'Y')].groupby(\n",
    "        ['forenames',\n",
    "         'surname',\n",
    "         'partial_date_of_birth',\n",
    "         'person_postcode'])\n",
    "    groups = grouped.size()\n",
    "    groups = groups[groups > threshold]\n",
    "    groups = groups.index.values\n",
    "    company_numbers = []\n",
    "    for group in groups:\n",
    "        l = grouped.get_group(group).company_number.tolist()\n",
    "        company_numbers.extend(l)\n",
    "    return df[df.company_number.isin(company_numbers)]\n",
    "\n",
    "\n",
    "def add_suffix_to_cols(df, suffix):\n",
    "    df2 = df.copy()\n",
    "    old_cols = df2.columns\n",
    "    new_cols = [x + '_' + suffix if x != 'join_id' else x for x in old_cols]\n",
    "    df2.columns = new_cols\n",
    "    return df2"
   ]
  },
  {
   "cell_type": "markdown",
   "metadata": {},
   "source": [
    "# Analysis"
   ]
  },
  {
   "cell_type": "markdown",
   "metadata": {},
   "source": [
    "## Basic summaries and counts"
   ]
  },
  {
   "cell_type": "markdown",
   "metadata": {},
   "source": [
    "### How many live companies are there in Companies House?"
   ]
  },
  {
   "cell_type": "markdown",
   "metadata": {},
   "source": [
    "- Note that the PSC regime does not apply do all of these\n",
    "- This includes partnerships. Unless flagged otherwise we use \"companies\" as shorthand for partnerships and companies in what follows"
   ]
  },
  {
   "cell_type": "code",
   "execution_count": 88,
   "metadata": {},
   "outputs": [
    {
     "data": {
      "text/plain": [
       "4316165"
      ]
     },
     "execution_count": 88,
     "metadata": {},
     "output_type": "execute_result"
    }
   ],
   "source": [
    "live_companies.company_number.nunique()"
   ]
  },
  {
   "cell_type": "markdown",
   "metadata": {},
   "source": [
    "### How many live companies are there to which the PSC regime applies?"
   ]
  },
  {
   "cell_type": "markdown",
   "metadata": {},
   "source": [
    "- We have excluded the company types to which the PSC regime does not apply according to Companies House\n",
    "- We have additionally excluded three broader categories: Registered Societies and Industrial and Provident Societies\n",
    "- Note that this includes a mix of statuses e.g. \"Active - proposal to strike off\" but does not include any companies that have been dissolved. The analysis that follows includes the broad range of statuses in the [Free Company Data Product](http://download.companieshouse.gov.uk/en_output.html) available from Companies House. We refer to these as \"live\" companies"
   ]
  },
  {
   "cell_type": "code",
   "execution_count": 89,
   "metadata": {},
   "outputs": [
    {
     "data": {
      "text/plain": [
       "4252811"
      ]
     },
     "execution_count": 89,
     "metadata": {},
     "output_type": "execute_result"
    }
   ],
   "source": [
    "live_companies_psc_applies_unique_count = live_companies.query('psc_regime_applies==True').company_number.nunique()\n",
    "live_companies_psc_applies_unique_count"
   ]
  },
  {
   "cell_type": "markdown",
   "metadata": {},
   "source": [
    "### How many companies to which the PSC regime applies have filed at least one PSC (individual, corporate, legal person or super secure person)?"
   ]
  },
  {
   "cell_type": "markdown",
   "metadata": {},
   "source": [
    "There are a number of reasons why a company may not have disclosed a PSC including:\n",
    " - The company has filed a statement of some kind saying they have no PSC\n",
    " - The company's confirmation statement is overdue\n",
    " - The company is exempt as a trading company"
   ]
  },
  {
   "cell_type": "code",
   "execution_count": 90,
   "metadata": {},
   "outputs": [
    {
     "data": {
      "text/html": [
       "<div>\n",
       "<style scoped>\n",
       "    .dataframe tbody tr th:only-of-type {\n",
       "        vertical-align: middle;\n",
       "    }\n",
       "\n",
       "    .dataframe tbody tr th {\n",
       "        vertical-align: top;\n",
       "    }\n",
       "\n",
       "    .dataframe thead th {\n",
       "        text-align: right;\n",
       "    }\n",
       "</style>\n",
       "<table border=\"1\" class=\"dataframe\">\n",
       "  <thead>\n",
       "    <tr style=\"text-align: right;\">\n",
       "      <th></th>\n",
       "      <th>count</th>\n",
       "      <th>proportion</th>\n",
       "    </tr>\n",
       "  </thead>\n",
       "  <tbody>\n",
       "    <tr>\n",
       "      <th>Number of companies that have filed at least one PSC</th>\n",
       "      <td>3798111</td>\n",
       "      <td>0.89</td>\n",
       "    </tr>\n",
       "    <tr>\n",
       "      <th>Number of companies that have not filed a PSC</th>\n",
       "      <td>454700</td>\n",
       "      <td>0.11</td>\n",
       "    </tr>\n",
       "  </tbody>\n",
       "</table>\n",
       "</div>"
      ],
      "text/plain": [
       "                                                      count  \\\n",
       "Number of companies that have filed at least on...  3798111   \n",
       "Number of companies that have not filed a PSC        454700   \n",
       "\n",
       "                                                             proportion  \n",
       "Number of companies that have filed at least on...                 0.89  \n",
       "Number of companies that have not filed a PSC                      0.11  "
      ]
     },
     "execution_count": 90,
     "metadata": {},
     "output_type": "execute_result"
    }
   ],
   "source": [
    "active_psc_records_unique_company_count = active_psc_records.company_number.nunique()\n",
    "temp_df = pd.DataFrame({'count': [active_psc_records_unique_company_count, live_companies_psc_applies_unique_count - active_psc_records_unique_company_count]\n",
    "                        }, index=['Number of companies that have filed at least one PSC',\n",
    "                                  'Number of companies that have not filed a PSC'])\n",
    "temp_df['proportion'] = temp_df['count'] / \\\n",
    "    live_companies_psc_applies_unique_count\n",
    "temp_df"
   ]
  },
  {
   "cell_type": "markdown",
   "metadata": {},
   "source": [
    "### What proportion of live companies to which the PSC regime applies have not filed a PSC?"
   ]
  },
  {
   "cell_type": "code",
   "execution_count": 91,
   "metadata": {},
   "outputs": [
    {
     "data": {
      "text/plain": [
       "0.10691751878933722"
      ]
     },
     "execution_count": 91,
     "metadata": {},
     "output_type": "execute_result"
    }
   ],
   "source": [
    "(live_companies_psc_applies_unique_count -\n",
    " active_psc_records_unique_company_count) / live_companies_psc_applies_unique_count"
   ]
  },
  {
   "cell_type": "markdown",
   "metadata": {},
   "source": [
    "### How many live companies have filed a PSC statement of some kind e.g. no PSC, steps to find PSC not completed?  "
   ]
  },
  {
   "cell_type": "code",
   "execution_count": 92,
   "metadata": {},
   "outputs": [
    {
     "data": {
      "text/plain": [
       "351640"
      ]
     },
     "execution_count": 92,
     "metadata": {},
     "output_type": "execute_result"
    }
   ],
   "source": [
    "active_psc_statements_unique_company_count = active_psc_statements.company_number.nunique()\n",
    "active_psc_statements_unique_company_count"
   ]
  },
  {
   "cell_type": "code",
   "execution_count": null,
   "metadata": {},
   "outputs": [],
   "source": [
    "active_psc_records.kind.unique()"
   ]
  },
  {
   "cell_type": "markdown",
   "metadata": {},
   "source": [
    "### How many live companies have disclosed at least one indvidual PSC?"
   ]
  },
  {
   "cell_type": "markdown",
   "metadata": {},
   "source": [
    "- This does not include corporate PSCs, legal person PSCs or super secure PSCs"
   ]
  },
  {
   "cell_type": "code",
   "execution_count": 93,
   "metadata": {},
   "outputs": [
    {
     "data": {
      "text/plain": [
       "3481101"
      ]
     },
     "execution_count": 93,
     "metadata": {},
     "output_type": "execute_result"
    }
   ],
   "source": [
    "companies_disclosing_individual_psc_count = active_psc_records[active_psc_records.kind ==\n",
    "                                                               'individual-person-with-significant-control'].company_number.nunique()\n",
    "companies_disclosing_individual_psc_count"
   ]
  },
  {
   "cell_type": "markdown",
   "metadata": {},
   "source": [
    "### What proprotion of companies to which the PSC regime applies have directly disclosed at least one individual PSC?"
   ]
  },
  {
   "cell_type": "markdown",
   "metadata": {},
   "source": [
    "- This does not include corporate PSCs, legal PSCs or super secure PSCs"
   ]
  },
  {
   "cell_type": "code",
   "execution_count": 94,
   "metadata": {},
   "outputs": [
    {
     "data": {
      "text/plain": [
       "0.8185411954587213"
      ]
     },
     "execution_count": 94,
     "metadata": {},
     "output_type": "execute_result"
    }
   ],
   "source": [
    "companies_disclosing_individual_psc_count / live_companies_psc_applies_unique_count"
   ]
  },
  {
   "cell_type": "markdown",
   "metadata": {},
   "source": [
    "### Since the register started, how many unique companies have filed either a statement **or** at least one PSC?"
   ]
  },
  {
   "cell_type": "markdown",
   "metadata": {},
   "source": [
    "- This includes dissolved companies and PSC filings that are no longer active (which are included within the 'ceased' PSC records\n",
    "- This does not include exempt companies"
   ]
  },
  {
   "cell_type": "code",
   "execution_count": 95,
   "metadata": {},
   "outputs": [
    {
     "data": {
      "text/plain": [
       "4886432"
      ]
     },
     "execution_count": 95,
     "metadata": {},
     "output_type": "execute_result"
    }
   ],
   "source": [
    "pd.concat([active_psc_records,\n",
    "           active_psc_statements,\n",
    "           ceased_psc_records,\n",
    "           ceased_psc_statements], sort=False).company_number.nunique()"
   ]
  },
  {
   "cell_type": "markdown",
   "metadata": {},
   "source": [
    "### How many live companies to which the PSC regime applies have not filed a PSC statement or a PSC of any kind?"
   ]
  },
  {
   "cell_type": "markdown",
   "metadata": {},
   "source": [
    "- We exclude companies that were incorporated less than 28 days ago as they still have this time to file their PSC information."
   ]
  },
  {
   "cell_type": "code",
   "execution_count": 96,
   "metadata": {},
   "outputs": [
    {
     "data": {
      "text/plain": [
       "48140"
      ]
     },
     "execution_count": 96,
     "metadata": {},
     "output_type": "execute_result"
    }
   ],
   "source": [
    "active_exemptions_unique_count = active_exemptions.company_number.nunique()\n",
    "twentyeight_days_before = datetime.strptime(\n",
    "    '2019-03-01', '%Y-%m-%d') - timedelta(days=28)  # current pandas bug prevents doing this within dataframe filter\n",
    "live_companies_psc_regime_applies_less_than_28_days_old_unqiue_count = live_companies[\n",
    "    (live_companies.incorporation_date_formatted > twentyeight_days_before) &\n",
    "    (live_companies.psc_regime_applies == True)].company_number.nunique()\n",
    "live_companies_psc_applies_unique_count - active_psc_records_unique_company_count - \\\n",
    "    active_psc_statements_unique_company_count - active_exemptions_unique_count - \\\n",
    "    live_companies_psc_regime_applies_less_than_28_days_old_unqiue_count"
   ]
  },
  {
   "cell_type": "markdown",
   "metadata": {},
   "source": [
    "### What types of control do PSCs exercise over companies?"
   ]
  },
  {
   "cell_type": "markdown",
   "metadata": {},
   "source": [
    "#### Grouped list"
   ]
  },
  {
   "cell_type": "code",
   "execution_count": 97,
   "metadata": {
    "scrolled": true
   },
   "outputs": [
    {
     "data": {
      "text/html": [
       "<div>\n",
       "<style scoped>\n",
       "    .dataframe tbody tr th:only-of-type {\n",
       "        vertical-align: middle;\n",
       "    }\n",
       "\n",
       "    .dataframe tbody tr th {\n",
       "        vertical-align: top;\n",
       "    }\n",
       "\n",
       "    .dataframe thead th {\n",
       "        text-align: right;\n",
       "    }\n",
       "</style>\n",
       "<table border=\"1\" class=\"dataframe\">\n",
       "  <thead>\n",
       "    <tr style=\"text-align: right;\">\n",
       "      <th></th>\n",
       "      <th>proportion</th>\n",
       "      <th>count</th>\n",
       "    </tr>\n",
       "    <tr>\n",
       "      <th>types_of_control</th>\n",
       "      <th></th>\n",
       "      <th></th>\n",
       "    </tr>\n",
       "  </thead>\n",
       "  <tbody>\n",
       "    <tr>\n",
       "      <th>Ownership of shares</th>\n",
       "      <td>0.45</td>\n",
       "      <td>4401363</td>\n",
       "    </tr>\n",
       "    <tr>\n",
       "      <th>Right to appoint and remove directors, partners or other persons</th>\n",
       "      <td>0.17</td>\n",
       "      <td>1704743</td>\n",
       "    </tr>\n",
       "    <tr>\n",
       "      <th>Right to share surplus assets</th>\n",
       "      <td>0.01</td>\n",
       "      <td>51463</td>\n",
       "    </tr>\n",
       "    <tr>\n",
       "      <th>Significant influence or control</th>\n",
       "      <td>0.08</td>\n",
       "      <td>806892</td>\n",
       "    </tr>\n",
       "    <tr>\n",
       "      <th>Voting rights</th>\n",
       "      <td>0.29</td>\n",
       "      <td>2799862</td>\n",
       "    </tr>\n",
       "  </tbody>\n",
       "</table>\n",
       "</div>"
      ],
      "text/plain": [
       "                                                             proportion  \\\n",
       "types_of_control                                                          \n",
       "Ownership of shares                                                0.45   \n",
       "Right to appoint and remove directors, partners...                 0.17   \n",
       "Right to share surplus assets                                      0.01   \n",
       "Significant influence or control                                   0.08   \n",
       "Voting rights                                                      0.29   \n",
       "\n",
       "                                                      count  \n",
       "types_of_control                                             \n",
       "Ownership of shares                                 4401363  \n",
       "Right to appoint and remove directors, partners...  1704743  \n",
       "Right to share surplus assets                         51463  \n",
       "Significant influence or control                     806892  \n",
       "Voting rights                                       2799862  "
      ]
     },
     "execution_count": 97,
     "metadata": {},
     "output_type": "execute_result"
    }
   ],
   "source": [
    "control_type_mapping = {'ownership-of-shares': 'Ownership of shares',\n",
    "                        'right-to-appoint-and-remove': 'Right to appoint and remove directors, partners or other persons',\n",
    "                        'voting-rights': 'Voting rights',\n",
    "                        'significant-influence-or-control': 'Significant influence or control',\n",
    "                        'right-to-share-surplus-assets': 'Right to share surplus assets'}\n",
    "temp_df = proportion_and_count(active_psc_controls, 'nature_of_control', len(\n",
    "    active_psc_controls)).reset_index()\n",
    "temp_df['grouped'] = temp_df['index'].apply(group_string)\n",
    "temp_df = temp_df.groupby('grouped').sum()\n",
    "temp_df.index.names = ['types_of_control']\n",
    "temp_df"
   ]
  },
  {
   "cell_type": "markdown",
   "metadata": {},
   "source": [
    "#### Top 10 using Companies House more granular categories given in the original data"
   ]
  },
  {
   "cell_type": "code",
   "execution_count": 98,
   "metadata": {},
   "outputs": [
    {
     "data": {
      "text/html": [
       "<div>\n",
       "<style scoped>\n",
       "    .dataframe tbody tr th:only-of-type {\n",
       "        vertical-align: middle;\n",
       "    }\n",
       "\n",
       "    .dataframe tbody tr th {\n",
       "        vertical-align: top;\n",
       "    }\n",
       "\n",
       "    .dataframe thead th {\n",
       "        text-align: right;\n",
       "    }\n",
       "</style>\n",
       "<table border=\"1\" class=\"dataframe\">\n",
       "  <thead>\n",
       "    <tr style=\"text-align: right;\">\n",
       "      <th></th>\n",
       "      <th>proportion</th>\n",
       "      <th>count</th>\n",
       "    </tr>\n",
       "  </thead>\n",
       "  <tbody>\n",
       "    <tr>\n",
       "      <th>ownership-of-shares-75-to-100-percent</th>\n",
       "      <td>0.23</td>\n",
       "      <td>2264693</td>\n",
       "    </tr>\n",
       "    <tr>\n",
       "      <th>ownership-of-shares-25-to-50-percent</th>\n",
       "      <td>0.17</td>\n",
       "      <td>1683249</td>\n",
       "    </tr>\n",
       "    <tr>\n",
       "      <th>right-to-appoint-and-remove-directors</th>\n",
       "      <td>0.15</td>\n",
       "      <td>1512291</td>\n",
       "    </tr>\n",
       "    <tr>\n",
       "      <th>voting-rights-75-to-100-percent</th>\n",
       "      <td>0.14</td>\n",
       "      <td>1377618</td>\n",
       "    </tr>\n",
       "    <tr>\n",
       "      <th>voting-rights-25-to-50-percent</th>\n",
       "      <td>0.11</td>\n",
       "      <td>1053207</td>\n",
       "    </tr>\n",
       "    <tr>\n",
       "      <th>significant-influence-or-control</th>\n",
       "      <td>0.06</td>\n",
       "      <td>593194</td>\n",
       "    </tr>\n",
       "    <tr>\n",
       "      <th>ownership-of-shares-50-to-75-percent</th>\n",
       "      <td>0.03</td>\n",
       "      <td>267098</td>\n",
       "    </tr>\n",
       "    <tr>\n",
       "      <th>voting-rights-50-to-75-percent</th>\n",
       "      <td>0.02</td>\n",
       "      <td>149705</td>\n",
       "    </tr>\n",
       "    <tr>\n",
       "      <th>significant-influence-or-control-as-firm</th>\n",
       "      <td>0.01</td>\n",
       "      <td>124240</td>\n",
       "    </tr>\n",
       "    <tr>\n",
       "      <th>right-to-appoint-and-remove-directors-as-firm</th>\n",
       "      <td>0.01</td>\n",
       "      <td>105714</td>\n",
       "    </tr>\n",
       "  </tbody>\n",
       "</table>\n",
       "</div>"
      ],
      "text/plain": [
       "                                                        proportion    count\n",
       "ownership-of-shares-75-to-100-percent                         0.23  2264693\n",
       "ownership-of-shares-25-to-50-percent                          0.17  1683249\n",
       "right-to-appoint-and-remove-directors                         0.15  1512291\n",
       "voting-rights-75-to-100-percent                               0.14  1377618\n",
       "voting-rights-25-to-50-percent                                0.11  1053207\n",
       "significant-influence-or-control                              0.06   593194\n",
       "ownership-of-shares-50-to-75-percent                          0.03   267098\n",
       "voting-rights-50-to-75-percent                                0.02   149705\n",
       "significant-influence-or-control-as-firm                      0.01   124240\n",
       "right-to-appoint-and-remove-directors-as-firm                 0.01   105714"
      ]
     },
     "execution_count": 98,
     "metadata": {},
     "output_type": "execute_result"
    }
   ],
   "source": [
    "proportion_and_count(active_psc_controls, 'nature_of_control', len(active_psc_controls)).head(10)"
   ]
  },
  {
   "cell_type": "markdown",
   "metadata": {},
   "source": [
    "### How many live companies currently declare they are controlled by trusts in some way?"
   ]
  },
  {
   "cell_type": "code",
   "execution_count": 99,
   "metadata": {},
   "outputs": [
    {
     "data": {
      "text/plain": [
       "130448"
      ]
     },
     "execution_count": 99,
     "metadata": {},
     "output_type": "execute_result"
    }
   ],
   "source": [
    "active_psc_records[active_psc_records.natures_of_control.fillna(\n",
    "    ' ').str.contains('trust')].company_number.nunique()"
   ]
  },
  {
   "cell_type": "code",
   "execution_count": 100,
   "metadata": {},
   "outputs": [
    {
     "name": "stdout",
     "output_type": "stream",
     "text": [
      "Wrote for_further_investigation/ceased_trust_records to CSV\n"
     ]
    }
   ],
   "source": [
    "ceased_trust_records = ceased_psc_records[ceased_psc_records.natures_of_control.fillna('').str.contains('trust')]\n",
    "write_csv_s3(ceased_trust_records, 'for_further_investigation/ceased_trust_records', fs)"
   ]
  },
  {
   "cell_type": "markdown",
   "metadata": {},
   "source": [
    "### What are the nationalities of PSCs?"
   ]
  },
  {
   "cell_type": "markdown",
   "metadata": {},
   "source": [
    "- Nationalities are often inconsistently spelt and are occassionally overlapping e.g. Cornish and British."
   ]
  },
  {
   "cell_type": "code",
   "execution_count": 101,
   "metadata": {},
   "outputs": [
    {
     "data": {
      "text/html": [
       "<div>\n",
       "<style scoped>\n",
       "    .dataframe tbody tr th:only-of-type {\n",
       "        vertical-align: middle;\n",
       "    }\n",
       "\n",
       "    .dataframe tbody tr th {\n",
       "        vertical-align: top;\n",
       "    }\n",
       "\n",
       "    .dataframe thead th {\n",
       "        text-align: right;\n",
       "    }\n",
       "</style>\n",
       "<table border=\"1\" class=\"dataframe\">\n",
       "  <thead>\n",
       "    <tr style=\"text-align: right;\">\n",
       "      <th></th>\n",
       "      <th>proportion</th>\n",
       "      <th>count</th>\n",
       "    </tr>\n",
       "  </thead>\n",
       "  <tbody>\n",
       "    <tr>\n",
       "      <th>British</th>\n",
       "      <td>0.80</td>\n",
       "      <td>3630139</td>\n",
       "    </tr>\n",
       "    <tr>\n",
       "      <th>English</th>\n",
       "      <td>0.03</td>\n",
       "      <td>126444</td>\n",
       "    </tr>\n",
       "    <tr>\n",
       "      <th>Irish</th>\n",
       "      <td>0.01</td>\n",
       "      <td>62230</td>\n",
       "    </tr>\n",
       "    <tr>\n",
       "      <th>Polish</th>\n",
       "      <td>0.01</td>\n",
       "      <td>51690</td>\n",
       "    </tr>\n",
       "    <tr>\n",
       "      <th>Indian</th>\n",
       "      <td>0.01</td>\n",
       "      <td>43206</td>\n",
       "    </tr>\n",
       "  </tbody>\n",
       "</table>\n",
       "</div>"
      ],
      "text/plain": [
       "                  proportion    count\n",
       "British                 0.80  3630139\n",
       "English                 0.03   126444\n",
       "Irish                   0.01    62230\n",
       "Polish                  0.01    51690\n",
       "Indian                  0.01    43206"
      ]
     },
     "execution_count": 101,
     "metadata": {},
     "output_type": "execute_result"
    }
   ],
   "source": [
    "temp_df = proportion_and_count(active_psc_records, 'nationality', len(\n",
    "    active_psc_records[active_psc_records.kind == 'individual-person-with-significant-control']))\n",
    "temp_df.head(5)"
   ]
  },
  {
   "cell_type": "markdown",
   "metadata": {},
   "source": [
    "### What are the different types of PSC in the register?"
   ]
  },
  {
   "cell_type": "markdown",
   "metadata": {},
   "source": [
    "- Denominator of proportion is PSC records (does not include companies that have filed PSC statements e.g. no PSC)\n",
    "- Count is for PSC records not for the number of unique companies"
   ]
  },
  {
   "cell_type": "code",
   "execution_count": 102,
   "metadata": {},
   "outputs": [
    {
     "data": {
      "text/html": [
       "<div>\n",
       "<style scoped>\n",
       "    .dataframe tbody tr th:only-of-type {\n",
       "        vertical-align: middle;\n",
       "    }\n",
       "\n",
       "    .dataframe tbody tr th {\n",
       "        vertical-align: top;\n",
       "    }\n",
       "\n",
       "    .dataframe thead th {\n",
       "        text-align: right;\n",
       "    }\n",
       "</style>\n",
       "<table border=\"1\" class=\"dataframe\">\n",
       "  <thead>\n",
       "    <tr style=\"text-align: right;\">\n",
       "      <th></th>\n",
       "      <th>proportion</th>\n",
       "      <th>count</th>\n",
       "    </tr>\n",
       "  </thead>\n",
       "  <tbody>\n",
       "    <tr>\n",
       "      <th>individual-person-with-significant-control</th>\n",
       "      <td>0.92</td>\n",
       "      <td>4544979</td>\n",
       "    </tr>\n",
       "    <tr>\n",
       "      <th>corporate-entity-person-with-significant-control</th>\n",
       "      <td>0.08</td>\n",
       "      <td>376450</td>\n",
       "    </tr>\n",
       "    <tr>\n",
       "      <th>legal-person-person-with-significant-control</th>\n",
       "      <td>0.00</td>\n",
       "      <td>5958</td>\n",
       "    </tr>\n",
       "    <tr>\n",
       "      <th>super-secure-person-with-significant-control</th>\n",
       "      <td>0.00</td>\n",
       "      <td>230</td>\n",
       "    </tr>\n",
       "  </tbody>\n",
       "</table>\n",
       "</div>"
      ],
      "text/plain": [
       "                                                           proportion    count\n",
       "individual-person-with-significant-control                       0.92  4544979\n",
       "corporate-entity-person-with-significant-control                 0.08   376450\n",
       "legal-person-person-with-significant-control                     0.00     5958\n",
       "super-secure-person-with-significant-control                     0.00      230"
      ]
     },
     "execution_count": 102,
     "metadata": {},
     "output_type": "execute_result"
    }
   ],
   "source": [
    "temp_df = proportion_and_count(active_psc_records, 'kind', len(active_psc_records))\n",
    "temp_df"
   ]
  },
  {
   "cell_type": "markdown",
   "metadata": {},
   "source": [
    "### How many live companies currently claim a trading exemption of some kind?"
   ]
  },
  {
   "cell_type": "markdown",
   "metadata": {},
   "source": [
    "- Many of these companies are not eligible for trading exemptions but have been classified as claiming one in any case\n",
    "- Note that many companies have multiple exemptions"
   ]
  },
  {
   "cell_type": "code",
   "execution_count": 103,
   "metadata": {},
   "outputs": [
    {
     "data": {
      "text/plain": [
       "78"
      ]
     },
     "execution_count": 103,
     "metadata": {},
     "output_type": "execute_result"
    }
   ],
   "source": [
    "len(active_exemptions.company_number.unique())"
   ]
  },
  {
   "cell_type": "code",
   "execution_count": 104,
   "metadata": {},
   "outputs": [
    {
     "data": {
      "text/plain": [
       "psc-exempt-as-trading-on-regulated-market             48\n",
       "disclosure-transparency-rules-chapter-five-applies    32\n",
       "psc-exempt-as-shares-admitted-on-market               31\n",
       "psc-exempt-as-trading-on-uk-regulated-market           1\n",
       "dtype: int64"
      ]
     },
     "execution_count": 104,
     "metadata": {},
     "output_type": "execute_result"
    }
   ],
   "source": [
    "exemption_columns = ['exemptions_disclosure_transparency_rules_chapter_five_applies_exemption_type',\n",
    "                     'exemptions_psc_exempt_as_shares_admitted_on_market_exemption_type',\n",
    "                     'exemptions_psc_exempt_as_trading_on_regulated_market_exemption_type',\n",
    "                     'exemptions_psc_exempt_as_trading_on_uk_regulated_market_exemption_type']\n",
    "active_exemptions.drop_duplicates(subset='company_number')[\n",
    "    exemption_columns].stack().value_counts()"
   ]
  },
  {
   "cell_type": "markdown",
   "metadata": {},
   "source": [
    "Types of exemption:"
   ]
  },
  {
   "cell_type": "markdown",
   "metadata": {},
   "source": [
    "Examples of companies with a trading exemption:"
   ]
  },
  {
   "cell_type": "code",
   "execution_count": 105,
   "metadata": {},
   "outputs": [
    {
     "name": "stdout",
     "output_type": "stream",
     "text": [
      "Wrote for_further_investigation/active_exemptions to CSV\n"
     ]
    },
    {
     "data": {
      "text/html": [
       "<div>\n",
       "<style scoped>\n",
       "    .dataframe tbody tr th:only-of-type {\n",
       "        vertical-align: middle;\n",
       "    }\n",
       "\n",
       "    .dataframe tbody tr th {\n",
       "        vertical-align: top;\n",
       "    }\n",
       "\n",
       "    .dataframe thead th {\n",
       "        text-align: right;\n",
       "    }\n",
       "</style>\n",
       "<table border=\"1\" class=\"dataframe\">\n",
       "  <thead>\n",
       "    <tr style=\"text-align: right;\">\n",
       "      <th></th>\n",
       "      <th>company_number</th>\n",
       "      <th>company_name</th>\n",
       "    </tr>\n",
       "  </thead>\n",
       "  <tbody>\n",
       "    <tr>\n",
       "      <th>0</th>\n",
       "      <td>00433137</td>\n",
       "      <td>BRITISH &amp; AMERICAN INVESTMENT TRUST PLC</td>\n",
       "    </tr>\n",
       "    <tr>\n",
       "      <th>1</th>\n",
       "      <td>09139852</td>\n",
       "      <td>POWER2TEK LTD</td>\n",
       "    </tr>\n",
       "    <tr>\n",
       "      <th>2</th>\n",
       "      <td>08654254</td>\n",
       "      <td>OXFORD IMMUNOTEC GLOBAL PLC</td>\n",
       "    </tr>\n",
       "    <tr>\n",
       "      <th>3</th>\n",
       "      <td>SC455664</td>\n",
       "      <td>ROMEO &amp; JULIET INN LIMITED</td>\n",
       "    </tr>\n",
       "    <tr>\n",
       "      <th>4</th>\n",
       "      <td>09257343</td>\n",
       "      <td>STERIS PLC</td>\n",
       "    </tr>\n",
       "  </tbody>\n",
       "</table>\n",
       "</div>"
      ],
      "text/plain": [
       "  company_number                             company_name\n",
       "0       00433137  BRITISH & AMERICAN INVESTMENT TRUST PLC\n",
       "1       09139852                            POWER2TEK LTD\n",
       "2       08654254              OXFORD IMMUNOTEC GLOBAL PLC\n",
       "3       SC455664               ROMEO & JULIET INN LIMITED\n",
       "4       09257343                               STERIS PLC"
      ]
     },
     "execution_count": 105,
     "metadata": {},
     "output_type": "execute_result"
    }
   ],
   "source": [
    "write_csv_s3(active_exemptions, 'for_further_investigation/active_exemptions', fs)\n",
    "active_exemptions[['company_number', 'company_name']].head(5)"
   ]
  },
  {
   "cell_type": "markdown",
   "metadata": {},
   "source": [
    "### What are the reasons given as to why a company is unable to file a PSC in its statement?"
   ]
  },
  {
   "cell_type": "markdown",
   "metadata": {},
   "source": [
    "- Denominator of proportion is all PSC statements"
   ]
  },
  {
   "cell_type": "code",
   "execution_count": 106,
   "metadata": {},
   "outputs": [
    {
     "data": {
      "text/html": [
       "<div>\n",
       "<style scoped>\n",
       "    .dataframe tbody tr th:only-of-type {\n",
       "        vertical-align: middle;\n",
       "    }\n",
       "\n",
       "    .dataframe tbody tr th {\n",
       "        vertical-align: top;\n",
       "    }\n",
       "\n",
       "    .dataframe thead th {\n",
       "        text-align: right;\n",
       "    }\n",
       "</style>\n",
       "<table border=\"1\" class=\"dataframe\">\n",
       "  <thead>\n",
       "    <tr style=\"text-align: right;\">\n",
       "      <th></th>\n",
       "      <th>proportion</th>\n",
       "      <th>count</th>\n",
       "    </tr>\n",
       "  </thead>\n",
       "  <tbody>\n",
       "    <tr>\n",
       "      <th>no-individual-or-entity-with-signficant-control</th>\n",
       "      <td>0.95</td>\n",
       "      <td>334475</td>\n",
       "    </tr>\n",
       "    <tr>\n",
       "      <th>steps-to-find-psc-not-yet-completed</th>\n",
       "      <td>0.01</td>\n",
       "      <td>5133</td>\n",
       "    </tr>\n",
       "    <tr>\n",
       "      <th>psc-details-not-confirmed</th>\n",
       "      <td>0.01</td>\n",
       "      <td>3515</td>\n",
       "    </tr>\n",
       "    <tr>\n",
       "      <th>psc-exists-but-not-identified</th>\n",
       "      <td>0.01</td>\n",
       "      <td>2996</td>\n",
       "    </tr>\n",
       "    <tr>\n",
       "      <th>steps-to-find-psc-not-yet-completed-partnership</th>\n",
       "      <td>0.01</td>\n",
       "      <td>2922</td>\n",
       "    </tr>\n",
       "    <tr>\n",
       "      <th>no-individual-or-entity-with-signficant-control-partnership</th>\n",
       "      <td>0.00</td>\n",
       "      <td>1758</td>\n",
       "    </tr>\n",
       "    <tr>\n",
       "      <th>psc-details-not-confirmed-partnership</th>\n",
       "      <td>0.00</td>\n",
       "      <td>564</td>\n",
       "    </tr>\n",
       "    <tr>\n",
       "      <th>psc-exists-but-not-identified-partnership</th>\n",
       "      <td>0.00</td>\n",
       "      <td>374</td>\n",
       "    </tr>\n",
       "    <tr>\n",
       "      <th>psc-contacted-but-no-response</th>\n",
       "      <td>0.00</td>\n",
       "      <td>283</td>\n",
       "    </tr>\n",
       "    <tr>\n",
       "      <th>restrictions-notice-issued-to-psc</th>\n",
       "      <td>0.00</td>\n",
       "      <td>21</td>\n",
       "    </tr>\n",
       "    <tr>\n",
       "      <th>psc-has-failed-to-confirm-changed-details</th>\n",
       "      <td>0.00</td>\n",
       "      <td>4</td>\n",
       "    </tr>\n",
       "    <tr>\n",
       "      <th>psc-contacted-but-no-response-partnership</th>\n",
       "      <td>0.00</td>\n",
       "      <td>4</td>\n",
       "    </tr>\n",
       "  </tbody>\n",
       "</table>\n",
       "</div>"
      ],
      "text/plain": [
       "                                                             proportion  \\\n",
       "no-individual-or-entity-with-signficant-control                    0.95   \n",
       "steps-to-find-psc-not-yet-completed                                0.01   \n",
       "psc-details-not-confirmed                                          0.01   \n",
       "psc-exists-but-not-identified                                      0.01   \n",
       "steps-to-find-psc-not-yet-completed-partnership                    0.01   \n",
       "no-individual-or-entity-with-signficant-control...                 0.00   \n",
       "psc-details-not-confirmed-partnership                              0.00   \n",
       "psc-exists-but-not-identified-partnership                          0.00   \n",
       "psc-contacted-but-no-response                                      0.00   \n",
       "restrictions-notice-issued-to-psc                                  0.00   \n",
       "psc-has-failed-to-confirm-changed-details                          0.00   \n",
       "psc-contacted-but-no-response-partnership                          0.00   \n",
       "\n",
       "                                                     count  \n",
       "no-individual-or-entity-with-signficant-control     334475  \n",
       "steps-to-find-psc-not-yet-completed                   5133  \n",
       "psc-details-not-confirmed                             3515  \n",
       "psc-exists-but-not-identified                         2996  \n",
       "steps-to-find-psc-not-yet-completed-partnership       2922  \n",
       "no-individual-or-entity-with-signficant-control...    1758  \n",
       "psc-details-not-confirmed-partnership                  564  \n",
       "psc-exists-but-not-identified-partnership              374  \n",
       "psc-contacted-but-no-response                          283  \n",
       "restrictions-notice-issued-to-psc                       21  \n",
       "psc-has-failed-to-confirm-changed-details                4  \n",
       "psc-contacted-but-no-response-partnership                4  "
      ]
     },
     "execution_count": 106,
     "metadata": {},
     "output_type": "execute_result"
    }
   ],
   "source": [
    "proportion_and_count(active_psc_statements, 'statement', len(active_psc_statements))"
   ]
  },
  {
   "cell_type": "markdown",
   "metadata": {},
   "source": [
    "### How many companies are disclosing a statement that they have no PSC?"
   ]
  },
  {
   "cell_type": "markdown",
   "metadata": {},
   "source": [
    "- This includes only companies (and partnerships) that explicilty declare in their statement that they have no PSC ('no-individual-or-entity-with-signficant-control')\t"
   ]
  },
  {
   "cell_type": "code",
   "execution_count": 107,
   "metadata": {},
   "outputs": [
    {
     "data": {
      "text/plain": [
       "336224"
      ]
     },
     "execution_count": 107,
     "metadata": {},
     "output_type": "execute_result"
    }
   ],
   "source": [
    "len(active_psc_statements[active_psc_statements.statement.str.contains('no-individual-or-entity-with-signficant-control')].company_number.unique())"
   ]
  },
  {
   "cell_type": "markdown",
   "metadata": {},
   "source": [
    "### Number of companies that have a no PSC statement or a no PSC statment at the \"top of a chain\""
   ]
  },
  {
   "cell_type": "markdown",
   "metadata": {},
   "source": [
    "- Requires Neo4J graph database connections. See scripts folder in Github repositry for code on building graph."
   ]
  },
  {
   "cell_type": "code",
   "execution_count": 108,
   "metadata": {},
   "outputs": [
    {
     "name": "stdout",
     "output_type": "stream",
     "text": [
      "Companies with no PSC at top of chain: 379953\n",
      "Additional companies due to network effect: 43729\n"
     ]
    }
   ],
   "source": [
    "no_psc_top_of_chain = graph.run(\"MATCH p=(c1:Company)<-[:CONTROLS*0..]-(c2:Company)-[:STATES]-(s:Statement)\\\n",
    "WHERE s.statement CONTAINS 'no-individual-or-entity-with-signficant-control'\\\n",
    "RETURN DISTINCT (c1.company_number)\").to_data_frame()\n",
    "print(\"Companies with no PSC at top of chain: \" + str(len(no_psc_top_of_chain)))\n",
    "print(\"Additional companies due to network effect: \" + str(len(no_psc_top_of_chain) -\n",
    "                                                           len(active_psc_statements[active_psc_statements.statement.str.contains('no-individual-or-entity-with-signficant-control')].company_number.unique())))"
   ]
  },
  {
   "cell_type": "markdown",
   "metadata": {},
   "source": [
    "### How many PSCs are there per company?"
   ]
  },
  {
   "cell_type": "markdown",
   "metadata": {},
   "source": [
    "- For companies that have not filed a PSC we assign a zero"
   ]
  },
  {
   "cell_type": "code",
   "execution_count": 109,
   "metadata": {},
   "outputs": [
    {
     "data": {
      "text/plain": [
       "count           4,252,811.00\n",
       "mean                    1.16\n",
       "std                     0.69\n",
       "min                     0.00\n",
       "25%                     1.00\n",
       "50%                     1.00\n",
       "75%                     1.00\n",
       "max                    63.00\n",
       "Name: count, dtype: float64"
      ]
     },
     "execution_count": 109,
     "metadata": {},
     "output_type": "execute_result"
    }
   ],
   "source": [
    "record_counts = pd.DataFrame(active_psc_records.groupby(\n",
    "    'company_number')['name'].count()).reset_index()\n",
    "record_counts.columns = ['company_number', 'count']\n",
    "temp_df = pd.merge(record_counts, live_companies.query('psc_regime_applies==True'),\n",
    "                   left_on='company_number', right_on='company_number', how='right')\n",
    "temp_df['count'] = temp_df['count'].fillna(0)\n",
    "temp_df['count'].describe()"
   ]
  },
  {
   "cell_type": "markdown",
   "metadata": {},
   "source": [
    "### What proportion of live companies are struggling to find their PSC by company type?"
   ]
  },
  {
   "cell_type": "markdown",
   "metadata": {},
   "source": [
    "- The numerator for proportions is companies per type that have filed *either* a PSC record or a statement. We refer to this in the briefing as \"being on the Register\". The denominator for proportions is live companies of that type. "
   ]
  },
  {
   "cell_type": "code",
   "execution_count": 110,
   "metadata": {},
   "outputs": [
    {
     "name": "stdout",
     "output_type": "stream",
     "text": [
      "Overall average of steps to find PSC statements not completed: 0.002\n"
     ]
    },
    {
     "data": {
      "text/html": [
       "<div>\n",
       "<style scoped>\n",
       "    .dataframe tbody tr th:only-of-type {\n",
       "        vertical-align: middle;\n",
       "    }\n",
       "\n",
       "    .dataframe tbody tr th {\n",
       "        vertical-align: top;\n",
       "    }\n",
       "\n",
       "    .dataframe thead th {\n",
       "        text-align: right;\n",
       "    }\n",
       "</style>\n",
       "<table border=\"1\" class=\"dataframe\">\n",
       "  <thead>\n",
       "    <tr style=\"text-align: right;\">\n",
       "      <th></th>\n",
       "      <th>number_of_companies_steps_to_find_psc_not_completed</th>\n",
       "      <th>totals</th>\n",
       "      <th>proportion_of_companies_steps_to_find_psc_not_completed</th>\n",
       "    </tr>\n",
       "    <tr>\n",
       "      <th>company_type</th>\n",
       "      <th></th>\n",
       "      <th></th>\n",
       "      <th></th>\n",
       "    </tr>\n",
       "  </thead>\n",
       "  <tbody>\n",
       "    <tr>\n",
       "      <th>Limited Partnership for Scotland</th>\n",
       "      <td>2,886.00</td>\n",
       "      <td>15657</td>\n",
       "      <td>0.18</td>\n",
       "    </tr>\n",
       "    <tr>\n",
       "      <th>Limited Liability Partnership for England &amp; Wales</th>\n",
       "      <td>167.00</td>\n",
       "      <td>47804</td>\n",
       "      <td>0.00</td>\n",
       "    </tr>\n",
       "    <tr>\n",
       "      <th>England &amp; Wales Company</th>\n",
       "      <td>4,780.00</td>\n",
       "      <td>3799958</td>\n",
       "      <td>0.00</td>\n",
       "    </tr>\n",
       "    <tr>\n",
       "      <th>Scottish Company</th>\n",
       "      <td>91.00</td>\n",
       "      <td>211147</td>\n",
       "      <td>0.00</td>\n",
       "    </tr>\n",
       "  </tbody>\n",
       "</table>\n",
       "</div>"
      ],
      "text/plain": [
       "                                                   number_of_companies_steps_to_find_psc_not_completed  \\\n",
       "company_type                                                                                             \n",
       "Limited Partnership for Scotland                                                            2,886.00     \n",
       "Limited Liability Partnership for England & Wales                                             167.00     \n",
       "England & Wales Company                                                                     4,780.00     \n",
       "Scottish Company                                                                               91.00     \n",
       "\n",
       "                                                    totals  \\\n",
       "company_type                                                 \n",
       "Limited Partnership for Scotland                     15657   \n",
       "Limited Liability Partnership for England & Wales    47804   \n",
       "England & Wales Company                            3799958   \n",
       "Scottish Company                                    211147   \n",
       "\n",
       "                                                   proportion_of_companies_steps_to_find_psc_not_completed  \n",
       "company_type                                                                                                \n",
       "Limited Partnership for Scotland                                                                0.18        \n",
       "Limited Liability Partnership for England & Wales                                               0.00        \n",
       "England & Wales Company                                                                         0.00        \n",
       "Scottish Company                                                                                0.00        "
      ]
     },
     "execution_count": 110,
     "metadata": {},
     "output_type": "execute_result"
    }
   ],
   "source": [
    "active_psc_statements['steps_to_find_psc_not_completed'] = active_psc_statements.statement.str.contains(\n",
    "    'steps-to-find-psc-not-yet-completed')\n",
    "active_combined_statements_records = pd.concat(\n",
    "    [active_psc_records, active_psc_statements], sort=False)\n",
    "company_type_totals_combined = pd.DataFrame(active_combined_statements_records.groupby(\n",
    "    'company_type').agg(pd.Series.nunique)['company_number'])\n",
    "company_type_totals_combined.columns = ['totals']\n",
    "temp_df = active_psc_statements.pivot_table(\n",
    "    index='company_type',\\\n",
    "    columns='steps_to_find_psc_not_completed',\\\n",
    "    values='company_number',\\\n",
    "    aggfunc=pd.Series.nunique)\n",
    "temp_df = pd.merge(temp_df, company_type_totals_combined,\n",
    "                   left_index=True, right_index=True)\n",
    "temp_df['proportion'] = temp_df[True] / temp_df['totals']\n",
    "temp_df = temp_df[[True, 'totals', 'proportion']].fillna(0)\n",
    "temp_df.columns = ['number_of_companies_steps_to_find_psc_not_completed',\n",
    "                   'totals',\n",
    "                   'proportion_of_companies_steps_to_find_psc_not_completed']\n",
    "print(\"Overall average of steps to find PSC statements not completed: \" + \\\n",
    "      str(round(len(active_psc_statements[active_psc_statements.statement.str.contains(\n",
    "    'steps-to-find-psc-not-yet-completed')].company_number.unique()) / live_companies_psc_applies_unique_count, 3)))\n",
    "temp_df = temp_df[temp_df['number_of_companies_steps_to_find_psc_not_completed'] > 10].sort_values(\n",
    "    by='proportion_of_companies_steps_to_find_psc_not_completed', ascending=False)\n",
    "temp_df"
   ]
  },
  {
   "cell_type": "markdown",
   "metadata": {},
   "source": [
    "## Issues with data quality in the PSC register"
   ]
  },
  {
   "cell_type": "markdown",
   "metadata": {},
   "source": [
    "### Is it possible to report that you have no PSC while also reporting a PSC that is currently active?"
   ]
  },
  {
   "cell_type": "code",
   "execution_count": 111,
   "metadata": {},
   "outputs": [
    {
     "name": "stdout",
     "output_type": "stream",
     "text": [
      "It's possible!\n"
     ]
    }
   ],
   "source": [
    "if len(active_psc_records[(active_psc_records.company_number.isin(\n",
    "        active_psc_statements[active_psc_statements.statement.str.contains(\n",
    "            'no-individual-or-entity-with-signficant-control')]\n",
    "        .company_number))]) > 0:\n",
    "    print('It\\'s possible!')\n",
    "else:\n",
    "    print('Not possible!')"
   ]
  },
  {
   "cell_type": "code",
   "execution_count": 112,
   "metadata": {},
   "outputs": [
    {
     "name": "stdout",
     "output_type": "stream",
     "text": [
      "Some examples:\n"
     ]
    },
    {
     "data": {
      "text/html": [
       "<div>\n",
       "<style scoped>\n",
       "    .dataframe tbody tr th:only-of-type {\n",
       "        vertical-align: middle;\n",
       "    }\n",
       "\n",
       "    .dataframe tbody tr th {\n",
       "        vertical-align: top;\n",
       "    }\n",
       "\n",
       "    .dataframe thead th {\n",
       "        text-align: right;\n",
       "    }\n",
       "</style>\n",
       "<table border=\"1\" class=\"dataframe\">\n",
       "  <thead>\n",
       "    <tr style=\"text-align: right;\">\n",
       "      <th></th>\n",
       "      <th>company_name</th>\n",
       "      <th>company_number</th>\n",
       "    </tr>\n",
       "  </thead>\n",
       "  <tbody>\n",
       "    <tr>\n",
       "      <th>67</th>\n",
       "      <td>\"DGS UK\" LTD</td>\n",
       "      <td>10492362</td>\n",
       "    </tr>\n",
       "    <tr>\n",
       "      <th>2912</th>\n",
       "      <td>1 SYDENHAM ROAD COTHAM MANAGEMENT COMPANY LIMITED</td>\n",
       "      <td>04040715</td>\n",
       "    </tr>\n",
       "    <tr>\n",
       "      <th>3246</th>\n",
       "      <td>1-2-KICK LTD</td>\n",
       "      <td>10600091</td>\n",
       "    </tr>\n",
       "    <tr>\n",
       "      <th>5453</th>\n",
       "      <td>107 L M R LTD</td>\n",
       "      <td>06378376</td>\n",
       "    </tr>\n",
       "    <tr>\n",
       "      <th>5525</th>\n",
       "      <td>108 CHURCH ROAD RICHMOND MANAGEMENT COMPANY LI...</td>\n",
       "      <td>04266582</td>\n",
       "    </tr>\n",
       "  </tbody>\n",
       "</table>\n",
       "</div>"
      ],
      "text/plain": [
       "                                           company_name company_number\n",
       "67                                         \"DGS UK\" LTD       10492362\n",
       "2912  1 SYDENHAM ROAD COTHAM MANAGEMENT COMPANY LIMITED       04040715\n",
       "3246                                       1-2-KICK LTD       10600091\n",
       "5453                                      107 L M R LTD       06378376\n",
       "5525  108 CHURCH ROAD RICHMOND MANAGEMENT COMPANY LI...       04266582"
      ]
     },
     "execution_count": 112,
     "metadata": {},
     "output_type": "execute_result"
    }
   ],
   "source": [
    "# some examples of these companies\n",
    "no_psc_and_psc = active_psc_records[(active_psc_records.company_number.isin(\n",
    "    active_psc_statements[active_psc_statements.statement == 'no-individual-or-entity-with-signficant-control']\n",
    "    .company_number))]['company_number']\n",
    "print(\"Some examples:\")\n",
    "live_companies[live_companies.company_number.isin(\n",
    "    no_psc_and_psc)][['company_name', 'company_number']].head(5)"
   ]
  },
  {
   "cell_type": "markdown",
   "metadata": {},
   "source": [
    "### Implausible dates of birth"
   ]
  },
  {
   "cell_type": "code",
   "execution_count": 113,
   "metadata": {},
   "outputs": [
    {
     "data": {
      "text/plain": [
       "<matplotlib.axes._subplots.AxesSubplot at 0x7f720ff61d68>"
      ]
     },
     "execution_count": 113,
     "metadata": {},
     "output_type": "execute_result"
    },
    {
     "data": {
      "image/png": "[encoded data removed]",
      "text/plain": [
       "<matplotlib.figure.Figure at 0x7f720ff611d0>"
      ]
     },
     "metadata": {},
     "output_type": "display_data"
    }
   ],
   "source": [
    "active_psc_records.month_year_birth.hist(figsize=(20,5), bins=50)"
   ]
  },
  {
   "cell_type": "code",
   "execution_count": 114,
   "metadata": {},
   "outputs": [
    {
     "name": "stdout",
     "output_type": "stream",
     "text": [
      "   age  count\n",
      "1    0    534\n",
      "0    1    746\n",
      "Total: 1280\n"
     ]
    }
   ],
   "source": [
    "two_years_ago = datetime.strptime(\n",
    "    '2019-03-01', '%Y-%m-%d') - relativedelta(years=2)\n",
    "#  pscs under the age of 2\n",
    "very_young_pscs = active_psc_records[active_psc_records.month_year_birth > two_years_ago].copy()\n",
    "#  breakdown by age\n",
    "temp_df = very_young_pscs.month_year_birth.apply(lambda x: relativedelta(\n",
    "    datetime.strptime('2019-03-01', '%Y-%m-%d'), x).years).value_counts()\n",
    "temp_df = pd.DataFrame(temp_df).reset_index()\n",
    "temp_df.columns = ['age', 'count']\n",
    "s1 = temp_df.sort_values(by='age')\n",
    "print(s1)\n",
    "print('Total: ' + str(s1.sum()['count']))"
   ]
  },
  {
   "cell_type": "code",
   "execution_count": 115,
   "metadata": {},
   "outputs": [
    {
     "name": "stdout",
     "output_type": "stream",
     "text": [
      "   age  count\n",
      "0  143      1\n",
      "1  154      1\n",
      "Total: 2\n"
     ]
    }
   ],
   "source": [
    "hundredandtwentyfive_years_ago = datetime.strptime(\n",
    "    '2019-03-01', '%Y-%m-%d') - relativedelta(years=125)\n",
    "# pscs over the age of 125\n",
    "very_old_pscs = active_psc_records[active_psc_records.month_year_birth <\n",
    "                                   hundredandtwentyfive_years_ago]\n",
    "# breakdown by age\n",
    "temp_df = very_old_pscs.month_year_birth.apply(lambda x: relativedelta(\n",
    "    datetime.strptime('2019-03-01', '%Y-%m-%d'), x).years).value_counts()\n",
    "temp_df = pd.DataFrame(temp_df).reset_index()\n",
    "temp_df.columns = ['age', 'count']\n",
    "s1 = temp_df.sort_values(by='age')\n",
    "print(s1)\n",
    "print('Total: ' + str(s1['count'].sum()))"
   ]
  },
  {
   "cell_type": "code",
   "execution_count": 116,
   "metadata": {},
   "outputs": [
    {
     "name": "stdout",
     "output_type": "stream",
     "text": [
      "Some examples of companies with very old PSCs:\n"
     ]
    },
    {
     "data": {
      "text/html": [
       "<div>\n",
       "<style scoped>\n",
       "    .dataframe tbody tr th:only-of-type {\n",
       "        vertical-align: middle;\n",
       "    }\n",
       "\n",
       "    .dataframe tbody tr th {\n",
       "        vertical-align: top;\n",
       "    }\n",
       "\n",
       "    .dataframe thead th {\n",
       "        text-align: right;\n",
       "    }\n",
       "</style>\n",
       "<table border=\"1\" class=\"dataframe\">\n",
       "  <thead>\n",
       "    <tr style=\"text-align: right;\">\n",
       "      <th></th>\n",
       "      <th>company_number</th>\n",
       "      <th>company_name</th>\n",
       "    </tr>\n",
       "  </thead>\n",
       "  <tbody>\n",
       "    <tr>\n",
       "      <th>328024</th>\n",
       "      <td>11023217</td>\n",
       "      <td>ARR BUILDING SERVICES LTD</td>\n",
       "    </tr>\n",
       "    <tr>\n",
       "      <th>4275534</th>\n",
       "      <td>11193515</td>\n",
       "      <td>YARD AND BROAD PRODUCTION LTD</td>\n",
       "    </tr>\n",
       "  </tbody>\n",
       "</table>\n",
       "</div>"
      ],
      "text/plain": [
       "        company_number                   company_name\n",
       "328024        11023217      ARR BUILDING SERVICES LTD\n",
       "4275534       11193515  YARD AND BROAD PRODUCTION LTD"
      ]
     },
     "execution_count": 116,
     "metadata": {},
     "output_type": "execute_result"
    }
   ],
   "source": [
    "print('Some examples of companies with very old PSCs:')\n",
    "live_companies[live_companies.company_number.isin(very_old_pscs.company_number.unique())][[\n",
    "    'company_number', 'company_name']].head(5)"
   ]
  },
  {
   "cell_type": "code",
   "execution_count": 117,
   "metadata": {},
   "outputs": [
    {
     "name": "stdout",
     "output_type": "stream",
     "text": [
      "Wrote for_further_investigation/very_young_pscs to CSV\n"
     ]
    }
   ],
   "source": [
    "very_young_pscs['age'] = very_young_pscs.month_year_birth.apply(lambda x: relativedelta(\n",
    "    datetime.strptime('2019-03-01', '%Y-%m-%d'), x).years)\n",
    "write_csv_s3(very_young_pscs, 'for_further_investigation/very_young_pscs', fs)"
   ]
  },
  {
   "cell_type": "markdown",
   "metadata": {},
   "source": [
    "#### The addresses which have the most companies with very young PSCs registered there"
   ]
  },
  {
   "cell_type": "code",
   "execution_count": 118,
   "metadata": {},
   "outputs": [
    {
     "data": {
      "text/plain": [
       "first_and_postcode\n",
       "71-75 SHELTON STREET-WC2H 9JQ                    11\n",
       "85 GREAT PORTLAND STREET-W1W 7LT                  5\n",
       "KEMP HOUSE-EC1V 2NX                               5\n",
       "11 AMWELL STREET-EC1R 1UL                         4\n",
       "CHASE BUSINESS CENTRE-N14 5BP                     4\n",
       "HUNT HOUSE FARM-WR15 8JY                          4\n",
       "STRON HOUSE-SW1Y 5EA                              3\n",
       "8 CLOCK HOUSE PARADE-N13 6BG                      3\n",
       "SUITE L36/A BLETCHLEY BUSINESS CAMPUS-MK2 3HU     3\n",
       "OFFICE 16, AMITY HOUSE-DL3 7EE                    3\n",
       "Name: company_number, dtype: int64"
      ]
     },
     "execution_count": 118,
     "metadata": {},
     "output_type": "execute_result"
    }
   ],
   "source": [
    "young_co_numbers = very_young_pscs.company_number\n",
    "temp_df = live_companies[live_companies.company_number.isin(young_co_numbers)].groupby(\n",
    "    ['first_and_postcode'])['company_number']\\\n",
    "    .agg(pd.Series.nunique).sort_values(ascending=False).head(10)\n",
    "temp_df"
   ]
  },
  {
   "cell_type": "markdown",
   "metadata": {},
   "source": [
    "## Indicators of the extent possible non-compliance to the PSC regime"
   ]
  },
  {
   "cell_type": "markdown",
   "metadata": {},
   "source": [
    "### Potential nominee PSCs"
   ]
  },
  {
   "cell_type": "markdown",
   "metadata": {},
   "source": [
    "#### Which PSCs currently control the most number of companies?"
   ]
  },
  {
   "cell_type": "code",
   "execution_count": 119,
   "metadata": {},
   "outputs": [
    {
     "data": {
      "text/html": [
       "<div>\n",
       "<style scoped>\n",
       "    .dataframe tbody tr th:only-of-type {\n",
       "        vertical-align: middle;\n",
       "    }\n",
       "\n",
       "    .dataframe tbody tr th {\n",
       "        vertical-align: top;\n",
       "    }\n",
       "\n",
       "    .dataframe thead th {\n",
       "        text-align: right;\n",
       "    }\n",
       "</style>\n",
       "<table border=\"1\" class=\"dataframe\">\n",
       "  <thead>\n",
       "    <tr style=\"text-align: right;\">\n",
       "      <th></th>\n",
       "      <th></th>\n",
       "      <th></th>\n",
       "      <th></th>\n",
       "      <th>company_number</th>\n",
       "    </tr>\n",
       "    <tr>\n",
       "      <th>name_elements_forename</th>\n",
       "      <th>name_elements_surname</th>\n",
       "      <th>month_year_birth</th>\n",
       "      <th>address_postal_code</th>\n",
       "      <th></th>\n",
       "    </tr>\n",
       "  </thead>\n",
       "  <tbody>\n",
       "    <tr>\n",
       "      <th>Michael</th>\n",
       "      <th>Gleissner</th>\n",
       "      <th>1969-04-01</th>\n",
       "      <th>CT20 2RD</th>\n",
       "      <td>1208</td>\n",
       "    </tr>\n",
       "    <tr>\n",
       "      <th>Peter</th>\n",
       "      <th>Valaitis</th>\n",
       "      <th>1950-11-01</th>\n",
       "      <th>BS9 3BY</th>\n",
       "      <td>1170</td>\n",
       "    </tr>\n",
       "    <tr>\n",
       "      <th>Waris</th>\n",
       "      <th>Khan</th>\n",
       "      <th>1979-02-01</th>\n",
       "      <th>W1G 9QR</th>\n",
       "      <td>583</td>\n",
       "    </tr>\n",
       "    <tr>\n",
       "      <th>Terence</th>\n",
       "      <th>Dunne</th>\n",
       "      <th>1945-01-01</th>\n",
       "      <th>LS7 4RA</th>\n",
       "      <td>390</td>\n",
       "    </tr>\n",
       "    <tr>\n",
       "      <th>Darren</th>\n",
       "      <th>Symes</th>\n",
       "      <th>1958-10-01</th>\n",
       "      <th>N11 3NE</th>\n",
       "      <td>336</td>\n",
       "    </tr>\n",
       "    <tr>\n",
       "      <th>Bryan</th>\n",
       "      <th>Thornton</th>\n",
       "      <th>1955-07-01</th>\n",
       "      <th>DN6 8DA</th>\n",
       "      <td>291</td>\n",
       "    </tr>\n",
       "    <tr>\n",
       "      <th>Steven</th>\n",
       "      <th>Mahony</th>\n",
       "      <th>1968-01-01</th>\n",
       "      <th>WV13 2HA</th>\n",
       "      <td>265</td>\n",
       "    </tr>\n",
       "    <tr>\n",
       "      <th>Ronald</th>\n",
       "      <th>Richards</th>\n",
       "      <th>1945-01-01</th>\n",
       "      <th>B25 8TS</th>\n",
       "      <td>260</td>\n",
       "    </tr>\n",
       "    <tr>\n",
       "      <th>Brendan</th>\n",
       "      <th>Walton</th>\n",
       "      <th>1951-01-01</th>\n",
       "      <th>IM8 1DL</th>\n",
       "      <td>244</td>\n",
       "    </tr>\n",
       "    <tr>\n",
       "      <th>Andrew</th>\n",
       "      <th>Leighton</th>\n",
       "      <th>1949-10-01</th>\n",
       "      <th>W1K 4QW</th>\n",
       "      <td>203</td>\n",
       "    </tr>\n",
       "    <tr>\n",
       "      <th>Nicholas</th>\n",
       "      <th>Stevenson</th>\n",
       "      <th>1957-12-01</th>\n",
       "      <th>IM8 1DL</th>\n",
       "      <td>202</td>\n",
       "    </tr>\n",
       "    <tr>\n",
       "      <th>Terry</th>\n",
       "      <th>Dunne</th>\n",
       "      <th>1945-01-01</th>\n",
       "      <th>LS7 4RA</th>\n",
       "      <td>197</td>\n",
       "    </tr>\n",
       "    <tr>\n",
       "      <th>Sebastian</th>\n",
       "      <th>Clark</th>\n",
       "      <th>1974-02-01</th>\n",
       "      <th>CB11 3DG</th>\n",
       "      <td>190</td>\n",
       "    </tr>\n",
       "    <tr>\n",
       "      <th>Virginia</th>\n",
       "      <th>Clark</th>\n",
       "      <th>1947-01-01</th>\n",
       "      <th>CB11 3DG</th>\n",
       "      <td>178</td>\n",
       "    </tr>\n",
       "    <tr>\n",
       "      <th>Sonia</th>\n",
       "      <th>Millar</th>\n",
       "      <th>1962-03-01</th>\n",
       "      <th>BT9 6AF</th>\n",
       "      <td>168</td>\n",
       "    </tr>\n",
       "    <tr>\n",
       "      <th>Terry</th>\n",
       "      <th>Dunne</th>\n",
       "      <th>1945-01-01</th>\n",
       "      <th>LS14 1AB</th>\n",
       "      <td>152</td>\n",
       "    </tr>\n",
       "    <tr>\n",
       "      <th>Adam</th>\n",
       "      <th>Mcneice</th>\n",
       "      <th>1990-12-01</th>\n",
       "      <th>LE1 7EA</th>\n",
       "      <td>150</td>\n",
       "    </tr>\n",
       "    <tr>\n",
       "      <th>Martin</th>\n",
       "      <th>Shortland</th>\n",
       "      <th>1948-03-01</th>\n",
       "      <th>TN4 8BG</th>\n",
       "      <td>146</td>\n",
       "    </tr>\n",
       "    <tr>\n",
       "      <th>Graham</th>\n",
       "      <th>Cowan</th>\n",
       "      <th>1943-06-01</th>\n",
       "      <th>WD6 3EW</th>\n",
       "      <td>132</td>\n",
       "    </tr>\n",
       "    <tr>\n",
       "      <th>Steven</th>\n",
       "      <th>Longman</th>\n",
       "      <th>1969-04-01</th>\n",
       "      <th>DA10 0AD</th>\n",
       "      <td>113</td>\n",
       "    </tr>\n",
       "  </tbody>\n",
       "</table>\n",
       "</div>"
      ],
      "text/plain": [
       "                                                                                   company_number\n",
       "name_elements_forename name_elements_surname month_year_birth address_postal_code                \n",
       "Michael                Gleissner             1969-04-01       CT20 2RD                       1208\n",
       "Peter                  Valaitis              1950-11-01       BS9 3BY                        1170\n",
       "Waris                  Khan                  1979-02-01       W1G 9QR                         583\n",
       "Terence                Dunne                 1945-01-01       LS7 4RA                         390\n",
       "Darren                 Symes                 1958-10-01       N11 3NE                         336\n",
       "Bryan                  Thornton              1955-07-01       DN6 8DA                         291\n",
       "Steven                 Mahony                1968-01-01       WV13 2HA                        265\n",
       "Ronald                 Richards              1945-01-01       B25 8TS                         260\n",
       "Brendan                Walton                1951-01-01       IM8 1DL                         244\n",
       "Andrew                 Leighton              1949-10-01       W1K 4QW                         203\n",
       "Nicholas               Stevenson             1957-12-01       IM8 1DL                         202\n",
       "Terry                  Dunne                 1945-01-01       LS7 4RA                         197\n",
       "Sebastian              Clark                 1974-02-01       CB11 3DG                        190\n",
       "Virginia               Clark                 1947-01-01       CB11 3DG                        178\n",
       "Sonia                  Millar                1962-03-01       BT9 6AF                         168\n",
       "Terry                  Dunne                 1945-01-01       LS14 1AB                        152\n",
       "Adam                   Mcneice               1990-12-01       LE1 7EA                         150\n",
       "Martin                 Shortland             1948-03-01       TN4 8BG                         146\n",
       "Graham                 Cowan                 1943-06-01       WD6 3EW                         132\n",
       "Steven                 Longman               1969-04-01       DA10 0AD                        113"
      ]
     },
     "execution_count": 119,
     "metadata": {},
     "output_type": "execute_result"
    }
   ],
   "source": [
    "temp_df = active_psc_records.groupby(['name_elements_forename',\n",
    "                                      'name_elements_surname',\n",
    "                                      'month_year_birth',\n",
    "                                      'address_postal_code'])[['company_number']]\\\n",
    "    .agg(pd.Series.nunique).sort_values(by='company_number', ascending=False)\n",
    "temp_df.head(20)"
   ]
  },
  {
   "cell_type": "markdown",
   "metadata": {},
   "source": [
    "#### How many PSCs control over 100 companies?"
   ]
  },
  {
   "cell_type": "code",
   "execution_count": 120,
   "metadata": {},
   "outputs": [
    {
     "data": {
      "text/plain": [
       "23"
      ]
     },
     "execution_count": 120,
     "metadata": {},
     "output_type": "execute_result"
    }
   ],
   "source": [
    "temp_df = temp_df[temp_df.company_number > 100].copy()\n",
    "temp_df.dropna(inplace=True)\n",
    "len(temp_df)"
   ]
  },
  {
   "cell_type": "markdown",
   "metadata": {},
   "source": [
    "### How many companies are controlled by PSCs that control over 100 companies?"
   ]
  },
  {
   "cell_type": "code",
   "execution_count": 121,
   "metadata": {},
   "outputs": [
    {
     "data": {
      "text/plain": [
       "6711"
      ]
     },
     "execution_count": 121,
     "metadata": {},
     "output_type": "execute_result"
    }
   ],
   "source": [
    "len(controlled_by_popular_person(active_psc_records, 100).company_number.unique())"
   ]
  },
  {
   "cell_type": "markdown",
   "metadata": {},
   "source": [
    "### How many companies are directed by individuals that direct over 100 companies?"
   ]
  },
  {
   "cell_type": "code",
   "execution_count": 122,
   "metadata": {},
   "outputs": [
    {
     "data": {
      "text/plain": [
       "42813"
      ]
     },
     "execution_count": 122,
     "metadata": {},
     "output_type": "execute_result"
    }
   ],
   "source": [
    "len(directed_by_popular_person(active_officers, 100).company_number.unique())"
   ]
  },
  {
   "cell_type": "markdown",
   "metadata": {},
   "source": [
    "### Number of directors that direct over 100 companies"
   ]
  },
  {
   "cell_type": "code",
   "execution_count": 123,
   "metadata": {},
   "outputs": [
    {
     "data": {
      "text/plain": [
       "282"
      ]
     },
     "execution_count": 123,
     "metadata": {},
     "output_type": "execute_result"
    }
   ],
   "source": [
    "temp_df = active_officers[(active_officers.corporate_indicator != 'Y')\\\n",
    "                          & (active_officers.appointment_type == 1)].groupby(\n",
    "                                ['forenames',\n",
    "                                 'surname',\n",
    "                                 'partial_date_of_birth',\n",
    "                                 'person_postcode'])[['company_number']].agg(\n",
    "                                pd.Series.nunique).sort_values(\n",
    "                                by='company_number', ascending=False)\n",
    "temp_df = temp_df[temp_df.company_number > 100]\n",
    "temp_df = temp_df.reset_index()\n",
    "temp_df.dropna(inplace=True)\n",
    "len(temp_df)"
   ]
  },
  {
   "cell_type": "markdown",
   "metadata": {},
   "source": [
    "### Corporate PSCs that are likely not Relevant Legal Entities"
   ]
  },
  {
   "cell_type": "markdown",
   "metadata": {},
   "source": [
    "#### Number of companies controlled by companies that are registered or located in countries without recognised stock exchanges (i.e. not in in the European Economic Area, Japan, Israel, Switzerland, USA)"
   ]
  },
  {
   "cell_type": "code",
   "execution_count": 124,
   "metadata": {},
   "outputs": [
    {
     "data": {
      "text/plain": [
       "8872"
      ]
     },
     "execution_count": 124,
     "metadata": {},
     "output_type": "execute_result"
    }
   ],
   "source": [
    "non_rle_pscs = active_psc_records[active_psc_records.non_rle_country == True]\n",
    "len(non_rle_pscs.company_number.unique())"
   ]
  },
  {
   "cell_type": "markdown",
   "metadata": {},
   "source": [
    "#### Number and proportion of likely non-RLE PSCs that are located or registered in secrecy jurisdictions"
   ]
  },
  {
   "cell_type": "code",
   "execution_count": 125,
   "metadata": {},
   "outputs": [
    {
     "data": {
      "text/plain": [
       "6292"
      ]
     },
     "execution_count": 125,
     "metadata": {},
     "output_type": "execute_result"
    }
   ],
   "source": [
    "len(non_rle_pscs[non_rle_pscs.secret_base == True])"
   ]
  },
  {
   "cell_type": "code",
   "execution_count": 126,
   "metadata": {},
   "outputs": [
    {
     "data": {
      "text/plain": [
       "0.6838387131833497"
      ]
     },
     "execution_count": 126,
     "metadata": {},
     "output_type": "execute_result"
    }
   ],
   "source": [
    "len(non_rle_pscs[non_rle_pscs.secret_base == True]) / len(non_rle_pscs)"
   ]
  },
  {
   "cell_type": "markdown",
   "metadata": {},
   "source": [
    "#### How many companies declare that at least one of their PSCs are companies in secrecy jurisdictions? "
   ]
  },
  {
   "cell_type": "code",
   "execution_count": 127,
   "metadata": {},
   "outputs": [
    {
     "data": {
      "text/plain": [
       "11495"
      ]
     },
     "execution_count": 127,
     "metadata": {},
     "output_type": "execute_result"
    }
   ],
   "source": [
    "secret_corporate_pscs = active_psc_records[(active_psc_records.secret_base == True) & \\\n",
    "                                           (active_psc_records.kind == 'corporate-entity-person-with-significant-control')\\\n",
    "                                           & (active_psc_records['identification_legal_form'] != 'Public Limited Company')\\\n",
    "                                          ].copy()\n",
    "len(secret_corporate_pscs.company_number.unique())"
   ]
  },
  {
   "cell_type": "markdown",
   "metadata": {},
   "source": [
    "#### How many companies are controlled directly or indirectly by companies that are registered or located in countries where they are unlikely to be RLEs?"
   ]
  },
  {
   "cell_type": "markdown",
   "metadata": {},
   "source": [
    "- This step uses the Neo4J graph we created. See the Github repo for an explanationa nd the script for building the graph database."
   ]
  },
  {
   "cell_type": "code",
   "execution_count": 128,
   "metadata": {},
   "outputs": [
    {
     "data": {
      "text/plain": [
       "14375"
      ]
     },
     "execution_count": 128,
     "metadata": {},
     "output_type": "execute_result"
    }
   ],
   "source": [
    "list_of_non_rle_companies = non_rle_pscs.company_number.unique().tolist()\n",
    "non_rle_company_at_top_of_chain = graph.run(\n",
    "    \"MATCH p=(c1:Company)<-[:CONTROLS*0..]-(c2:Company) WHERE c2.uid IN {list_of_non_rle_companies} RETURN DISTINCT (c1.company_number)\", list_of_non_rle_companies=list_of_non_rle_companies).to_data_frame()\n",
    "len(non_rle_company_at_top_of_chain)"
   ]
  },
  {
   "cell_type": "markdown",
   "metadata": {},
   "source": [
    "#### How many companies are controlled by a non-RLE company, directly or indirectly, which is also based in a secrecy jurisdiction?"
   ]
  },
  {
   "cell_type": "markdown",
   "metadata": {},
   "source": [
    "- This step uses the Neo4J graph we created. See the Github repo for an explanationa nd the script for building the graph database."
   ]
  },
  {
   "cell_type": "code",
   "execution_count": 129,
   "metadata": {},
   "outputs": [
    {
     "data": {
      "text/plain": [
       "10085"
      ]
     },
     "execution_count": 129,
     "metadata": {},
     "output_type": "execute_result"
    }
   ],
   "source": [
    "list_of_non_rle_and_secret_base_pscs = non_rle_pscs[non_rle_pscs.secret_base == True].company_number.unique(\n",
    ").tolist()\n",
    "non_rle_company_and_secret_base_at_top_of_chain = graph.run(\n",
    "    \"MATCH p=(c1:Company)<-[:CONTROLS*0..]-(c2:Company) WHERE c2.uid IN {list_of_non_rle_companies_with_secret_base} RETURN DISTINCT (c1.company_number)\", list_of_non_rle_companies_with_secret_base=list_of_non_rle_and_secret_base_pscs).to_data_frame()\n",
    "len(non_rle_company_and_secret_base_at_top_of_chain)"
   ]
  },
  {
   "cell_type": "markdown",
   "metadata": {},
   "source": [
    "#### How many companies are controlled directly or indirectly by a company based in a secrecy jurisdiction?"
   ]
  },
  {
   "cell_type": "markdown",
   "metadata": {},
   "source": [
    "- This step uses the Neo4J graph we created. See the Github repo for an explanation and the script for building the graph database."
   ]
  },
  {
   "cell_type": "code",
   "execution_count": 130,
   "metadata": {},
   "outputs": [],
   "source": [
    "list_of_secretly_controlled_companies = secret_corporate_pscs.company_number.unique().tolist()"
   ]
  },
  {
   "cell_type": "code",
   "execution_count": 131,
   "metadata": {},
   "outputs": [
    {
     "data": {
      "text/plain": [
       "19564"
      ]
     },
     "execution_count": 131,
     "metadata": {},
     "output_type": "execute_result"
    }
   ],
   "source": [
    "secret_company_at_top_of_chain = graph.run(\n",
    "    \"MATCH p=(c1:Company)<-[:CONTROLS*0..]-(c2:Company) WHERE c2.uid IN {list_of_secretly_controlled_companies} RETURN DISTINCT (c1.company_number)\", list_of_secretly_controlled_companies=list_of_secretly_controlled_companies).to_data_frame()\n",
    "len(secret_company_at_top_of_chain)"
   ]
  },
  {
   "cell_type": "markdown",
   "metadata": {},
   "source": [
    "#### What are the most popular registered addresses of companies that likely have non-RLE foreign corporate PSCs?"
   ]
  },
  {
   "cell_type": "markdown",
   "metadata": {},
   "source": [
    "##### Overall counts"
   ]
  },
  {
   "cell_type": "code",
   "execution_count": 132,
   "metadata": {},
   "outputs": [
    {
     "data": {
      "text/plain": [
       "first_and_postcode\n",
       "1 BURWOOD PLACE-W2 2UT                   427\n",
       "71-75 SHELTON STREET-WC2H 9JQ            109\n",
       "20-22 WENLOCK ROAD-N1 7GU                 70\n",
       "KEMP HOUSE-EC1V 2NX                       58\n",
       "27 OLD GLOUCESTER STREET-WC1N 3AX         51\n",
       "1 TOWERS PLACE-TW9 1EG                    43\n",
       "MILESTONE HOUSE NURSERY COURT-LE8 0EX     37\n",
       "SUITE 1, 3RD FLOOR-SW1Y 4LB               37\n",
       "UNIT G25 WATERFRONT STUDIOS-E16 1AH       32\n",
       "LEVEL 25-E14 5AA                          26\n",
       "54-56 CAMDEN LOCK PLACE-NW1 8AF           26\n",
       "814 LEIGH ROAD-SL1 4BD                    26\n",
       "272 BATH STREET-G2 4JR                    22\n",
       "85 GREAT PORTLAND STREET-W1W 7LT          21\n",
       "SHERBOURNE HOUSE UNIT 2-HA2 0LH           20\n",
       "35 GREAT ST HELEN'S-EC3A 6AP              19\n",
       "27-28 EASTCASTLE STREET-W1W 8DH           19\n",
       "GABLE HOUSE-N3 3LF                        19\n",
       "FOURTH FLOOR-WC1E 6HA                     18\n",
       "ELSCOT HOUSE-N3 2JU                       18\n",
       "Name: company_number, dtype: int64"
      ]
     },
     "execution_count": 132,
     "metadata": {},
     "output_type": "execute_result"
    }
   ],
   "source": [
    "temp_company_numbers = non_rle_pscs.company_number\n",
    "most_common_addresses_for_non_rle_pscs = live_companies[live_companies.company_number.isin(\n",
    "    temp_company_numbers)].groupby(\n",
    "    ['first_and_postcode'])['company_number']\\\n",
    "        .agg(pd.Series.nunique).sort_values(ascending=False)\n",
    "most_common_addresses_for_non_rle_pscs.head(20)"
   ]
  },
  {
   "cell_type": "markdown",
   "metadata": {},
   "source": [
    "##### Proportion of companies registered at a given address"
   ]
  },
  {
   "cell_type": "markdown",
   "metadata": {},
   "source": [
    "- This table gives some more detail per address. Many of the non-RLE corporate PSCs control many companies at a single address. This table gives information on how many unique non-RLE corporate PSCs control companies at a single address."
   ]
  },
  {
   "cell_type": "code",
   "execution_count": 133,
   "metadata": {},
   "outputs": [
    {
     "data": {
      "text/html": [
       "<div>\n",
       "<style scoped>\n",
       "    .dataframe tbody tr th:only-of-type {\n",
       "        vertical-align: middle;\n",
       "    }\n",
       "\n",
       "    .dataframe tbody tr th {\n",
       "        vertical-align: top;\n",
       "    }\n",
       "\n",
       "    .dataframe thead th {\n",
       "        text-align: right;\n",
       "    }\n",
       "</style>\n",
       "<table border=\"1\" class=\"dataframe\">\n",
       "  <thead>\n",
       "    <tr style=\"text-align: right;\">\n",
       "      <th></th>\n",
       "      <th>non_rle_pscs</th>\n",
       "      <th>unique_psc_names</th>\n",
       "      <th>total_companies</th>\n",
       "      <th>proportion_of_non_rle</th>\n",
       "    </tr>\n",
       "  </thead>\n",
       "  <tbody>\n",
       "    <tr>\n",
       "      <th>1 BURWOOD PLACE-W2 2UT</th>\n",
       "      <td>427</td>\n",
       "      <td>5</td>\n",
       "      <td>512</td>\n",
       "      <td>0.83</td>\n",
       "    </tr>\n",
       "    <tr>\n",
       "      <th>1 TOWERS PLACE-TW9 1EG</th>\n",
       "      <td>43</td>\n",
       "      <td>2</td>\n",
       "      <td>52</td>\n",
       "      <td>0.83</td>\n",
       "    </tr>\n",
       "    <tr>\n",
       "      <th>814 LEIGH ROAD-SL1 4BD</th>\n",
       "      <td>26</td>\n",
       "      <td>1</td>\n",
       "      <td>37</td>\n",
       "      <td>0.70</td>\n",
       "    </tr>\n",
       "    <tr>\n",
       "      <th>LEVEL 25-E14 5AA</th>\n",
       "      <td>26</td>\n",
       "      <td>2</td>\n",
       "      <td>56</td>\n",
       "      <td>0.46</td>\n",
       "    </tr>\n",
       "    <tr>\n",
       "      <th>54-56 CAMDEN LOCK PLACE-NW1 8AF</th>\n",
       "      <td>26</td>\n",
       "      <td>4</td>\n",
       "      <td>58</td>\n",
       "      <td>0.45</td>\n",
       "    </tr>\n",
       "    <tr>\n",
       "      <th>MILESTONE HOUSE NURSERY COURT-LE8 0EX</th>\n",
       "      <td>37</td>\n",
       "      <td>2</td>\n",
       "      <td>1095</td>\n",
       "      <td>0.03</td>\n",
       "    </tr>\n",
       "    <tr>\n",
       "      <th>SUITE 1, 3RD FLOOR-SW1Y 4LB</th>\n",
       "      <td>37</td>\n",
       "      <td>35</td>\n",
       "      <td>1308</td>\n",
       "      <td>0.03</td>\n",
       "    </tr>\n",
       "    <tr>\n",
       "      <th>UNIT G25 WATERFRONT STUDIOS-E16 1AH</th>\n",
       "      <td>32</td>\n",
       "      <td>33</td>\n",
       "      <td>4319</td>\n",
       "      <td>0.01</td>\n",
       "    </tr>\n",
       "    <tr>\n",
       "      <th>272 BATH STREET-G2 4JR</th>\n",
       "      <td>22</td>\n",
       "      <td>11</td>\n",
       "      <td>3551</td>\n",
       "      <td>0.01</td>\n",
       "    </tr>\n",
       "    <tr>\n",
       "      <th>27 OLD GLOUCESTER STREET-WC1N 3AX</th>\n",
       "      <td>51</td>\n",
       "      <td>50</td>\n",
       "      <td>9727</td>\n",
       "      <td>0.01</td>\n",
       "    </tr>\n",
       "    <tr>\n",
       "      <th>85 GREAT PORTLAND STREET-W1W 7LT</th>\n",
       "      <td>21</td>\n",
       "      <td>19</td>\n",
       "      <td>4532</td>\n",
       "      <td>0.00</td>\n",
       "    </tr>\n",
       "    <tr>\n",
       "      <th>71-75 SHELTON STREET-WC2H 9JQ</th>\n",
       "      <td>109</td>\n",
       "      <td>100</td>\n",
       "      <td>24778</td>\n",
       "      <td>0.00</td>\n",
       "    </tr>\n",
       "    <tr>\n",
       "      <th>KEMP HOUSE-EC1V 2NX</th>\n",
       "      <td>58</td>\n",
       "      <td>60</td>\n",
       "      <td>19059</td>\n",
       "      <td>0.00</td>\n",
       "    </tr>\n",
       "    <tr>\n",
       "      <th>20-22 WENLOCK ROAD-N1 7GU</th>\n",
       "      <td>70</td>\n",
       "      <td>65</td>\n",
       "      <td>34953</td>\n",
       "      <td>0.00</td>\n",
       "    </tr>\n",
       "  </tbody>\n",
       "</table>\n",
       "</div>"
      ],
      "text/plain": [
       "                                       non_rle_pscs  unique_psc_names  \\\n",
       "1 BURWOOD PLACE-W2 2UT                          427                 5   \n",
       "1 TOWERS PLACE-TW9 1EG                           43                 2   \n",
       "814 LEIGH ROAD-SL1 4BD                           26                 1   \n",
       "LEVEL 25-E14 5AA                                 26                 2   \n",
       "54-56 CAMDEN LOCK PLACE-NW1 8AF                  26                 4   \n",
       "MILESTONE HOUSE NURSERY COURT-LE8 0EX            37                 2   \n",
       "SUITE 1, 3RD FLOOR-SW1Y 4LB                      37                35   \n",
       "UNIT G25 WATERFRONT STUDIOS-E16 1AH              32                33   \n",
       "272 BATH STREET-G2 4JR                           22                11   \n",
       "27 OLD GLOUCESTER STREET-WC1N 3AX                51                50   \n",
       "85 GREAT PORTLAND STREET-W1W 7LT                 21                19   \n",
       "71-75 SHELTON STREET-WC2H 9JQ                   109               100   \n",
       "KEMP HOUSE-EC1V 2NX                              58                60   \n",
       "20-22 WENLOCK ROAD-N1 7GU                        70                65   \n",
       "\n",
       "                                       total_companies  proportion_of_non_rle  \n",
       "1 BURWOOD PLACE-W2 2UT                             512                   0.83  \n",
       "1 TOWERS PLACE-TW9 1EG                              52                   0.83  \n",
       "814 LEIGH ROAD-SL1 4BD                              37                   0.70  \n",
       "LEVEL 25-E14 5AA                                    56                   0.46  \n",
       "54-56 CAMDEN LOCK PLACE-NW1 8AF                     58                   0.45  \n",
       "MILESTONE HOUSE NURSERY COURT-LE8 0EX             1095                   0.03  \n",
       "SUITE 1, 3RD FLOOR-SW1Y 4LB                       1308                   0.03  \n",
       "UNIT G25 WATERFRONT STUDIOS-E16 1AH               4319                   0.01  \n",
       "272 BATH STREET-G2 4JR                            3551                   0.01  \n",
       "27 OLD GLOUCESTER STREET-WC1N 3AX                 9727                   0.01  \n",
       "85 GREAT PORTLAND STREET-W1W 7LT                  4532                   0.00  \n",
       "71-75 SHELTON STREET-WC2H 9JQ                    24778                   0.00  \n",
       "KEMP HOUSE-EC1V 2NX                              19059                   0.00  \n",
       "20-22 WENLOCK ROAD-N1 7GU                        34953                   0.00  "
      ]
     },
     "execution_count": 133,
     "metadata": {},
     "output_type": "execute_result"
    }
   ],
   "source": [
    "unique_companies_in_non_rle_psc_count = non_rle_pscs.groupby(\n",
    "    ['company_first_and_postcode'])['name']\\\n",
    "        .agg(pd.Series.nunique).sort_values(ascending=False)\n",
    "most_common_registered_addresses = live_companies.groupby(\n",
    "    ['first_and_postcode'])['company_number']\\\n",
    "    .agg(pd.Series.nunique)\n",
    "temp_s = most_common_registered_addresses[most_common_registered_addresses.index.isin(\n",
    "    most_common_addresses_for_non_rle_pscs.index)]\n",
    "temp_df = pd.concat(\n",
    "    [most_common_addresses_for_non_rle_pscs,\n",
    "     unique_companies_in_non_rle_psc_count,\n",
    "     temp_s], axis=1, sort=False)\n",
    "temp_df.columns = ['non_rle_pscs',\n",
    "                   'unique_psc_names',\n",
    "                   'total_companies']\n",
    "temp_df['proportion_of_non_rle'] = temp_df.non_rle_pscs / temp_df.total_companies\n",
    "temp_df[temp_df.non_rle_pscs > 20].sort_values(\n",
    "    by='proportion_of_non_rle', ascending=False)"
   ]
  },
  {
   "cell_type": "markdown",
   "metadata": {},
   "source": [
    "#### What are the most popular registered addresses of companies that have corporate PSCs in secrecy jurisdictions?"
   ]
  },
  {
   "cell_type": "markdown",
   "metadata": {},
   "source": [
    "##### Overall counts"
   ]
  },
  {
   "cell_type": "code",
   "execution_count": 134,
   "metadata": {},
   "outputs": [
    {
     "data": {
      "text/plain": [
       "first_and_postcode\n",
       "50 LOTHIAN ROAD-EH3 9WJ                               977\n",
       "71-75 SHELTON STREET-WC2H 9JQ                         117\n",
       "20-22 WENLOCK ROAD-N1 7GU                              81\n",
       "27 OLD GLOUCESTER STREET-WC1N 3AX                      70\n",
       "KEMP HOUSE-EC1V 2NX                                    60\n",
       "SUITE 1, 3RD FLOOR-SW1Y 4LB                            44\n",
       "1 TOWERS PLACE-TW9 1EG                                 43\n",
       "UNIT G25 WATERFRONT STUDIOS-E16 1AH                    33\n",
       "80 SIDNEY STREET-CT19 6HQ                              32\n",
       "85 GREAT PORTLAND STREET-W1W 7LT                       29\n",
       "262 BEDFONT LANE-TW14 9NU                              27\n",
       "54-56 CAMDEN LOCK PLACE-NW1 8AF                        26\n",
       "5 BROADGATE-EC2M 2QS                                   26\n",
       "SHERBOURNE HOUSE UNIT 2-HA2 0LH                        22\n",
       "272 BATH STREET-G2 4JR                                 21\n",
       "MID CITY PLACE-WC1V 6BA                                21\n",
       "27-28 EASTCASTLE STREET-W1W 8DH                        19\n",
       "SUITE 2, UNIT 14, FIRST FLOOR PLATTS EYOT-TW12 2HF     19\n",
       "ELSCOT HOUSE-N3 2JU                                    19\n",
       "1ST FLOOR RICO HOUSE GEORGE STREET-M25 9WS             18\n",
       "Name: company_number, dtype: int64"
      ]
     },
     "execution_count": 134,
     "metadata": {},
     "output_type": "execute_result"
    }
   ],
   "source": [
    "temp_company_numbers = secret_corporate_pscs.company_number\n",
    "most_common_addresses_for_secret_pscs = live_companies[live_companies.company_number.isin(\n",
    "    temp_company_numbers)].groupby(\n",
    "    ['first_and_postcode'])['company_number']\\\n",
    "        .agg(pd.Series.nunique).sort_values(ascending=False)\n",
    "most_common_addresses_for_secret_pscs.head(20)"
   ]
  },
  {
   "cell_type": "markdown",
   "metadata": {},
   "source": [
    "##### Proportion of companies registered at a given address"
   ]
  },
  {
   "cell_type": "code",
   "execution_count": 135,
   "metadata": {},
   "outputs": [
    {
     "data": {
      "text/html": [
       "<div>\n",
       "<style scoped>\n",
       "    .dataframe tbody tr th:only-of-type {\n",
       "        vertical-align: middle;\n",
       "    }\n",
       "\n",
       "    .dataframe tbody tr th {\n",
       "        vertical-align: top;\n",
       "    }\n",
       "\n",
       "    .dataframe thead th {\n",
       "        text-align: right;\n",
       "    }\n",
       "</style>\n",
       "<table border=\"1\" class=\"dataframe\">\n",
       "  <thead>\n",
       "    <tr style=\"text-align: right;\">\n",
       "      <th></th>\n",
       "      <th>secret_companies</th>\n",
       "      <th>unique_psc_names</th>\n",
       "      <th>total_companies</th>\n",
       "      <th>proportion_of_secret</th>\n",
       "    </tr>\n",
       "  </thead>\n",
       "  <tbody>\n",
       "    <tr>\n",
       "      <th>1 TOWERS PLACE-TW9 1EG</th>\n",
       "      <td>43</td>\n",
       "      <td>2</td>\n",
       "      <td>52</td>\n",
       "      <td>0.83</td>\n",
       "    </tr>\n",
       "    <tr>\n",
       "      <th>SHERBOURNE HOUSE UNIT 2-HA2 0LH</th>\n",
       "      <td>22</td>\n",
       "      <td>1</td>\n",
       "      <td>31</td>\n",
       "      <td>0.71</td>\n",
       "    </tr>\n",
       "    <tr>\n",
       "      <th>5 BROADGATE-EC2M 2QS</th>\n",
       "      <td>26</td>\n",
       "      <td>1</td>\n",
       "      <td>42</td>\n",
       "      <td>0.62</td>\n",
       "    </tr>\n",
       "    <tr>\n",
       "      <th>MID CITY PLACE-WC1V 6BA</th>\n",
       "      <td>21</td>\n",
       "      <td>3</td>\n",
       "      <td>38</td>\n",
       "      <td>0.55</td>\n",
       "    </tr>\n",
       "    <tr>\n",
       "      <th>54-56 CAMDEN LOCK PLACE-NW1 8AF</th>\n",
       "      <td>26</td>\n",
       "      <td>4</td>\n",
       "      <td>58</td>\n",
       "      <td>0.45</td>\n",
       "    </tr>\n",
       "    <tr>\n",
       "      <th>50 LOTHIAN ROAD-EH3 9WJ</th>\n",
       "      <td>977</td>\n",
       "      <td>25</td>\n",
       "      <td>4093</td>\n",
       "      <td>0.24</td>\n",
       "    </tr>\n",
       "    <tr>\n",
       "      <th>80 SIDNEY STREET-CT19 6HQ</th>\n",
       "      <td>32</td>\n",
       "      <td>32</td>\n",
       "      <td>210</td>\n",
       "      <td>0.15</td>\n",
       "    </tr>\n",
       "    <tr>\n",
       "      <th>262 BEDFONT LANE-TW14 9NU</th>\n",
       "      <td>27</td>\n",
       "      <td>27</td>\n",
       "      <td>283</td>\n",
       "      <td>0.10</td>\n",
       "    </tr>\n",
       "    <tr>\n",
       "      <th>SUITE 1, 3RD FLOOR-SW1Y 4LB</th>\n",
       "      <td>44</td>\n",
       "      <td>40</td>\n",
       "      <td>1308</td>\n",
       "      <td>0.03</td>\n",
       "    </tr>\n",
       "    <tr>\n",
       "      <th>UNIT G25 WATERFRONT STUDIOS-E16 1AH</th>\n",
       "      <td>33</td>\n",
       "      <td>33</td>\n",
       "      <td>4319</td>\n",
       "      <td>0.01</td>\n",
       "    </tr>\n",
       "    <tr>\n",
       "      <th>27 OLD GLOUCESTER STREET-WC1N 3AX</th>\n",
       "      <td>70</td>\n",
       "      <td>67</td>\n",
       "      <td>9727</td>\n",
       "      <td>0.01</td>\n",
       "    </tr>\n",
       "    <tr>\n",
       "      <th>85 GREAT PORTLAND STREET-W1W 7LT</th>\n",
       "      <td>29</td>\n",
       "      <td>27</td>\n",
       "      <td>4532</td>\n",
       "      <td>0.01</td>\n",
       "    </tr>\n",
       "    <tr>\n",
       "      <th>272 BATH STREET-G2 4JR</th>\n",
       "      <td>21</td>\n",
       "      <td>9</td>\n",
       "      <td>3551</td>\n",
       "      <td>0.01</td>\n",
       "    </tr>\n",
       "    <tr>\n",
       "      <th>71-75 SHELTON STREET-WC2H 9JQ</th>\n",
       "      <td>117</td>\n",
       "      <td>106</td>\n",
       "      <td>24778</td>\n",
       "      <td>0.00</td>\n",
       "    </tr>\n",
       "    <tr>\n",
       "      <th>KEMP HOUSE-EC1V 2NX</th>\n",
       "      <td>60</td>\n",
       "      <td>58</td>\n",
       "      <td>19059</td>\n",
       "      <td>0.00</td>\n",
       "    </tr>\n",
       "    <tr>\n",
       "      <th>20-22 WENLOCK ROAD-N1 7GU</th>\n",
       "      <td>81</td>\n",
       "      <td>78</td>\n",
       "      <td>34953</td>\n",
       "      <td>0.00</td>\n",
       "    </tr>\n",
       "  </tbody>\n",
       "</table>\n",
       "</div>"
      ],
      "text/plain": [
       "                                     secret_companies  unique_psc_names  \\\n",
       "1 TOWERS PLACE-TW9 1EG                             43                 2   \n",
       "SHERBOURNE HOUSE UNIT 2-HA2 0LH                    22                 1   \n",
       "5 BROADGATE-EC2M 2QS                               26                 1   \n",
       "MID CITY PLACE-WC1V 6BA                            21                 3   \n",
       "54-56 CAMDEN LOCK PLACE-NW1 8AF                    26                 4   \n",
       "50 LOTHIAN ROAD-EH3 9WJ                           977                25   \n",
       "80 SIDNEY STREET-CT19 6HQ                          32                32   \n",
       "262 BEDFONT LANE-TW14 9NU                          27                27   \n",
       "SUITE 1, 3RD FLOOR-SW1Y 4LB                        44                40   \n",
       "UNIT G25 WATERFRONT STUDIOS-E16 1AH                33                33   \n",
       "27 OLD GLOUCESTER STREET-WC1N 3AX                  70                67   \n",
       "85 GREAT PORTLAND STREET-W1W 7LT                   29                27   \n",
       "272 BATH STREET-G2 4JR                             21                 9   \n",
       "71-75 SHELTON STREET-WC2H 9JQ                     117               106   \n",
       "KEMP HOUSE-EC1V 2NX                                60                58   \n",
       "20-22 WENLOCK ROAD-N1 7GU                          81                78   \n",
       "\n",
       "                                     total_companies  proportion_of_secret  \n",
       "1 TOWERS PLACE-TW9 1EG                            52                  0.83  \n",
       "SHERBOURNE HOUSE UNIT 2-HA2 0LH                   31                  0.71  \n",
       "5 BROADGATE-EC2M 2QS                              42                  0.62  \n",
       "MID CITY PLACE-WC1V 6BA                           38                  0.55  \n",
       "54-56 CAMDEN LOCK PLACE-NW1 8AF                   58                  0.45  \n",
       "50 LOTHIAN ROAD-EH3 9WJ                         4093                  0.24  \n",
       "80 SIDNEY STREET-CT19 6HQ                        210                  0.15  \n",
       "262 BEDFONT LANE-TW14 9NU                        283                  0.10  \n",
       "SUITE 1, 3RD FLOOR-SW1Y 4LB                     1308                  0.03  \n",
       "UNIT G25 WATERFRONT STUDIOS-E16 1AH             4319                  0.01  \n",
       "27 OLD GLOUCESTER STREET-WC1N 3AX               9727                  0.01  \n",
       "85 GREAT PORTLAND STREET-W1W 7LT                4532                  0.01  \n",
       "272 BATH STREET-G2 4JR                          3551                  0.01  \n",
       "71-75 SHELTON STREET-WC2H 9JQ                  24778                  0.00  \n",
       "KEMP HOUSE-EC1V 2NX                            19059                  0.00  \n",
       "20-22 WENLOCK ROAD-N1 7GU                      34953                  0.00  "
      ]
     },
     "execution_count": 135,
     "metadata": {},
     "output_type": "execute_result"
    }
   ],
   "source": [
    "unique_companies_in_secret_psc_count = secret_corporate_pscs.groupby(\n",
    "    ['company_first_and_postcode'])['name']\\\n",
    "    .agg(pd.Series.nunique).sort_values(ascending=False)\n",
    "most_common_registered_addresses = live_companies.groupby(\n",
    "    ['first_and_postcode'])['company_number']\\\n",
    "    .agg(pd.Series.nunique)\n",
    "temp_s = most_common_registered_addresses[most_common_registered_addresses.index.isin(\n",
    "    most_common_addresses_for_secret_pscs.index)]\n",
    "temp_df = pd.concat(\n",
    "    [most_common_addresses_for_secret_pscs,\n",
    "     unique_companies_in_secret_psc_count,\n",
    "     temp_s], axis=1, sort=False)\n",
    "temp_df.columns = ['secret_companies',\n",
    "                   'unique_psc_names',\n",
    "                   'total_companies']\n",
    "temp_df['proportion_of_secret'] = temp_df.secret_companies / \\\n",
    "    temp_df.total_companies\n",
    "temp_df[temp_df.secret_companies > 20].sort_values(\n",
    "    by='proportion_of_secret', ascending=False)"
   ]
  },
  {
   "cell_type": "markdown",
   "metadata": {},
   "source": [
    "#### What are the most popular secrecy jurisdictions for corporate PSCs to be registered?"
   ]
  },
  {
   "cell_type": "code",
   "execution_count": 136,
   "metadata": {},
   "outputs": [
    {
     "data": {
      "text/plain": [
       "Switzerland                2111\n",
       "Netherlands                1382\n",
       "Virgin Islands, British     911\n",
       "Japan                       849\n",
       "Isle Of Man                 618\n",
       "Jersey                      544\n",
       "Hong Kong                   515\n",
       "China                       437\n",
       "Cyprus                      369\n",
       "United Kingdom              338\n",
       "Singapore                   333\n",
       "Bermuda                     314\n",
       "Guernsey                    268\n",
       "Cayman Islands              259\n",
       "England                     222\n",
       "Malta                       219\n",
       "Gibraltar                   205\n",
       "Israel                      187\n",
       "Channel Islands             134\n",
       "Seychelles                  118\n",
       "Name: address_country, dtype: int64"
      ]
     },
     "execution_count": 136,
     "metadata": {},
     "output_type": "execute_result"
    }
   ],
   "source": [
    "secret_corporate_pscs['address_country'].value_counts().head(20)"
   ]
  },
  {
   "cell_type": "markdown",
   "metadata": {},
   "source": [
    "#### How many companies declare that *all* of their PSCs are companies based in secrecy jurisdictions?"
   ]
  },
  {
   "cell_type": "code",
   "execution_count": 137,
   "metadata": {},
   "outputs": [
    {
     "data": {
      "text/plain": [
       "8570"
      ]
     },
     "execution_count": 137,
     "metadata": {},
     "output_type": "execute_result"
    }
   ],
   "source": [
    "# reduce dataframe as the transform function is very expensive on the whole dataset\n",
    "temp_df = active_psc_records[active_psc_records.company_number.isin(\n",
    "    secret_corporate_pscs.company_number)]\n",
    "len(temp_df[temp_df.groupby(\n",
    "    'company_number').secret_base.transform(all)].company_number.unique())"
   ]
  },
  {
   "cell_type": "markdown",
   "metadata": {},
   "source": [
    "### Filing \"no PSC\" statements"
   ]
  },
  {
   "cell_type": "markdown",
   "metadata": {},
   "source": [
    "#### How does the proportion of no PSC statements vary across different company types?"
   ]
  },
  {
   "cell_type": "markdown",
   "metadata": {},
   "source": [
    "- This only concerns companies (and partnerships) who have filed statements explicitly saying that they have no PSC (\"no-individual-or-entity-with-signficant-control\")\n",
    "- Denominator of proportions are all live companies of a company type that have filed *either* a statement or a PSC (in the briefing we refer to this as being \"on the Register\")"
   ]
  },
  {
   "cell_type": "code",
   "execution_count": 138,
   "metadata": {},
   "outputs": [
    {
     "name": "stdout",
     "output_type": "stream",
     "text": [
      "Overall average of no PSC statements for companies: 0.08\n"
     ]
    },
    {
     "data": {
      "text/html": [
       "<div>\n",
       "<style scoped>\n",
       "    .dataframe tbody tr th:only-of-type {\n",
       "        vertical-align: middle;\n",
       "    }\n",
       "\n",
       "    .dataframe tbody tr th {\n",
       "        vertical-align: top;\n",
       "    }\n",
       "\n",
       "    .dataframe thead th {\n",
       "        text-align: right;\n",
       "    }\n",
       "</style>\n",
       "<table border=\"1\" class=\"dataframe\">\n",
       "  <thead>\n",
       "    <tr style=\"text-align: right;\">\n",
       "      <th></th>\n",
       "      <th>number_of_companies_no_psc_statement</th>\n",
       "      <th>totals</th>\n",
       "      <th>proportion_of_companies_no_psc_statement</th>\n",
       "    </tr>\n",
       "    <tr>\n",
       "      <th>company_type</th>\n",
       "      <th></th>\n",
       "      <th></th>\n",
       "      <th></th>\n",
       "    </tr>\n",
       "  </thead>\n",
       "  <tbody>\n",
       "    <tr>\n",
       "      <th>Limited Liability Partnership for Northern Ireland</th>\n",
       "      <td>99.00</td>\n",
       "      <td>629</td>\n",
       "      <td>0.16</td>\n",
       "    </tr>\n",
       "    <tr>\n",
       "      <th>Limited Liability Partnership for England &amp; Wales</th>\n",
       "      <td>6,697.00</td>\n",
       "      <td>47804</td>\n",
       "      <td>0.14</td>\n",
       "    </tr>\n",
       "    <tr>\n",
       "      <th>Limited Liability Partnership for Scotland</th>\n",
       "      <td>398.00</td>\n",
       "      <td>2942</td>\n",
       "      <td>0.14</td>\n",
       "    </tr>\n",
       "    <tr>\n",
       "      <th>Limited Partnership for Scotland</th>\n",
       "      <td>1,742.00</td>\n",
       "      <td>15657</td>\n",
       "      <td>0.11</td>\n",
       "    </tr>\n",
       "    <tr>\n",
       "      <th>England &amp; Wales Company</th>\n",
       "      <td>306,760.00</td>\n",
       "      <td>3799958</td>\n",
       "      <td>0.08</td>\n",
       "    </tr>\n",
       "    <tr>\n",
       "      <th>Scottish Company</th>\n",
       "      <td>14,199.00</td>\n",
       "      <td>211147</td>\n",
       "      <td>0.07</td>\n",
       "    </tr>\n",
       "  </tbody>\n",
       "</table>\n",
       "</div>"
      ],
      "text/plain": [
       "                                                    number_of_companies_no_psc_statement  \\\n",
       "company_type                                                                               \n",
       "Limited Liability Partnership for Northern Ireland                                 99.00   \n",
       "Limited Liability Partnership for England & Wales                               6,697.00   \n",
       "Limited Liability Partnership for Scotland                                        398.00   \n",
       "Limited Partnership for Scotland                                                1,742.00   \n",
       "England & Wales Company                                                       306,760.00   \n",
       "Scottish Company                                                               14,199.00   \n",
       "\n",
       "                                                     totals  \\\n",
       "company_type                                                  \n",
       "Limited Liability Partnership for Northern Ireland      629   \n",
       "Limited Liability Partnership for England & Wales     47804   \n",
       "Limited Liability Partnership for Scotland             2942   \n",
       "Limited Partnership for Scotland                      15657   \n",
       "England & Wales Company                             3799958   \n",
       "Scottish Company                                     211147   \n",
       "\n",
       "                                                    proportion_of_companies_no_psc_statement  \n",
       "company_type                                                                                  \n",
       "Limited Liability Partnership for Northern Ireland                                      0.16  \n",
       "Limited Liability Partnership for England & Wales                                       0.14  \n",
       "Limited Liability Partnership for Scotland                                              0.14  \n",
       "Limited Partnership for Scotland                                                        0.11  \n",
       "England & Wales Company                                                                 0.08  \n",
       "Scottish Company                                                                        0.07  "
      ]
     },
     "execution_count": 138,
     "metadata": {},
     "output_type": "execute_result"
    }
   ],
   "source": [
    "# variation across company types\n",
    "active_psc_statements['no_psc_statement'] = active_psc_statements.statement.str.contains(\n",
    "    'no-individual-or-entity-with-signficant-control')\n",
    "company_type_totals_combined = pd.DataFrame(active_combined_statements_records.groupby(\n",
    "    'company_type').agg(pd.Series.nunique)['company_number'])\n",
    "company_type_totals_combined.columns = ['totals']\n",
    "temp_df = active_psc_statements.pivot_table(\n",
    "    index='company_type',\n",
    "    columns='no_psc_statement',\n",
    "    values='company_number',\n",
    "    aggfunc=pd.Series.nunique)\n",
    "temp_df = pd.merge(temp_df, company_type_totals_combined,\n",
    "                   left_index=True, right_index=True)\n",
    "temp_df['proportion'] = temp_df[True] / temp_df['totals']\n",
    "temp_df = temp_df[[True, 'totals', 'proportion']].fillna(0)\n",
    "temp_df.columns = ['number_of_companies_no_psc_statement',\n",
    "                   'totals', 'proportion_of_companies_no_psc_statement']\n",
    "print(\"Overall average of no PSC statements for companies: \" +\n",
    "      str(round(len(active_psc_statements[active_psc_statements.statement.str.contains(\n",
    "          'no-individual-or-entity-with-signficant-control')].company_number.unique()) /\n",
    "          live_companies_psc_applies_unique_count, 2)))\n",
    "temp_df[temp_df['number_of_companies_no_psc_statement'] > 10].sort_values(\n",
    "    by='proportion_of_companies_no_psc_statement', ascending=False)"
   ]
  },
  {
   "cell_type": "markdown",
   "metadata": {},
   "source": [
    "#### Which addresses have the largest volume and proportion of no PSC filings?"
   ]
  },
  {
   "cell_type": "code",
   "execution_count": 139,
   "metadata": {},
   "outputs": [
    {
     "data": {
      "text/html": [
       "<div>\n",
       "<style scoped>\n",
       "    .dataframe tbody tr th:only-of-type {\n",
       "        vertical-align: middle;\n",
       "    }\n",
       "\n",
       "    .dataframe tbody tr th {\n",
       "        vertical-align: top;\n",
       "    }\n",
       "\n",
       "    .dataframe thead th {\n",
       "        text-align: right;\n",
       "    }\n",
       "</style>\n",
       "<table border=\"1\" class=\"dataframe\">\n",
       "  <thead>\n",
       "    <tr style=\"text-align: right;\">\n",
       "      <th></th>\n",
       "      <th>number_no_psc</th>\n",
       "      <th>total_companies</th>\n",
       "      <th>proportion_no_psc</th>\n",
       "    </tr>\n",
       "  </thead>\n",
       "  <tbody>\n",
       "    <tr>\n",
       "      <th>SUITE 1, GROUND FLOOR-B18 6HN</th>\n",
       "      <td>248</td>\n",
       "      <td>248</td>\n",
       "      <td>1.00</td>\n",
       "    </tr>\n",
       "    <tr>\n",
       "      <th>SUITE 1, 36-B18 6HN</th>\n",
       "      <td>178</td>\n",
       "      <td>178</td>\n",
       "      <td>1.00</td>\n",
       "    </tr>\n",
       "    <tr>\n",
       "      <th>1 CANBERA HOUSE-NN17 5JG</th>\n",
       "      <td>114</td>\n",
       "      <td>114</td>\n",
       "      <td>1.00</td>\n",
       "    </tr>\n",
       "    <tr>\n",
       "      <th>SUITE 1, GROUND FLOOR 36 HYLTON STREET-B18 6HN</th>\n",
       "      <td>710</td>\n",
       "      <td>711</td>\n",
       "      <td>1.00</td>\n",
       "    </tr>\n",
       "    <tr>\n",
       "      <th>METROHOUSE-LS10 2RU</th>\n",
       "      <td>371</td>\n",
       "      <td>372</td>\n",
       "      <td>1.00</td>\n",
       "    </tr>\n",
       "    <tr>\n",
       "      <th>GROUND FLOOR, DISCOVERY HOUSE-SK4 5BH</th>\n",
       "      <td>126</td>\n",
       "      <td>127</td>\n",
       "      <td>0.99</td>\n",
       "    </tr>\n",
       "    <tr>\n",
       "      <th>103 HANOVIA HOUSE-W3 7YG</th>\n",
       "      <td>232</td>\n",
       "      <td>234</td>\n",
       "      <td>0.99</td>\n",
       "    </tr>\n",
       "    <tr>\n",
       "      <th>STUDIO 5, 50-54-B3 1QS</th>\n",
       "      <td>1684</td>\n",
       "      <td>1700</td>\n",
       "      <td>0.99</td>\n",
       "    </tr>\n",
       "    <tr>\n",
       "      <th>METRO HOUSE 57 PEPPER ROAD-LS10 2RU</th>\n",
       "      <td>261</td>\n",
       "      <td>264</td>\n",
       "      <td>0.99</td>\n",
       "    </tr>\n",
       "    <tr>\n",
       "      <th>20A VICTORIA ROAD-WA15 9AD</th>\n",
       "      <td>118</td>\n",
       "      <td>120</td>\n",
       "      <td>0.98</td>\n",
       "    </tr>\n",
       "  </tbody>\n",
       "</table>\n",
       "</div>"
      ],
      "text/plain": [
       "                                                number_no_psc  \\\n",
       "SUITE 1, GROUND FLOOR-B18 6HN                             248   \n",
       "SUITE 1, 36-B18 6HN                                       178   \n",
       "1 CANBERA HOUSE-NN17 5JG                                  114   \n",
       "SUITE 1, GROUND FLOOR 36 HYLTON STREET-B18 6HN            710   \n",
       "METROHOUSE-LS10 2RU                                       371   \n",
       "GROUND FLOOR, DISCOVERY HOUSE-SK4 5BH                     126   \n",
       "103 HANOVIA HOUSE-W3 7YG                                  232   \n",
       "STUDIO 5, 50-54-B3 1QS                                   1684   \n",
       "METRO HOUSE 57 PEPPER ROAD-LS10 2RU                       261   \n",
       "20A VICTORIA ROAD-WA15 9AD                                118   \n",
       "\n",
       "                                                total_companies  \\\n",
       "SUITE 1, GROUND FLOOR-B18 6HN                               248   \n",
       "SUITE 1, 36-B18 6HN                                         178   \n",
       "1 CANBERA HOUSE-NN17 5JG                                    114   \n",
       "SUITE 1, GROUND FLOOR 36 HYLTON STREET-B18 6HN              711   \n",
       "METROHOUSE-LS10 2RU                                         372   \n",
       "GROUND FLOOR, DISCOVERY HOUSE-SK4 5BH                       127   \n",
       "103 HANOVIA HOUSE-W3 7YG                                    234   \n",
       "STUDIO 5, 50-54-B3 1QS                                     1700   \n",
       "METRO HOUSE 57 PEPPER ROAD-LS10 2RU                         264   \n",
       "20A VICTORIA ROAD-WA15 9AD                                  120   \n",
       "\n",
       "                                                  proportion_no_psc  \n",
       "SUITE 1, GROUND FLOOR-B18 6HN                                  1.00  \n",
       "SUITE 1, 36-B18 6HN                                            1.00  \n",
       "1 CANBERA HOUSE-NN17 5JG                                       1.00  \n",
       "SUITE 1, GROUND FLOOR 36 HYLTON STREET-B18 6HN                 1.00  \n",
       "METROHOUSE-LS10 2RU                                            1.00  \n",
       "GROUND FLOOR, DISCOVERY HOUSE-SK4 5BH                          0.99  \n",
       "103 HANOVIA HOUSE-W3 7YG                                       0.99  \n",
       "STUDIO 5, 50-54-B3 1QS                                         0.99  \n",
       "METRO HOUSE 57 PEPPER ROAD-LS10 2RU                            0.99  \n",
       "20A VICTORIA ROAD-WA15 9AD                                     0.98  "
      ]
     },
     "execution_count": 139,
     "metadata": {},
     "output_type": "execute_result"
    }
   ],
   "source": [
    "most_common_registered_addresses_for_no_psc_companies = active_psc_statements[active_psc_statements.statement.str.contains(\n",
    "    'no-individual-or-entity-with-signficant-control')].groupby(\n",
    "    ['company_first_and_postcode'])['company_number'].agg(pd.Series.nunique)\n",
    "temp_s = most_common_registered_addresses[most_common_registered_addresses.index.isin(\n",
    "    most_common_registered_addresses_for_no_psc_companies.index)]\n",
    "temp_df = pd.concat(\n",
    "    [most_common_registered_addresses_for_no_psc_companies, temp_s], axis=1)\n",
    "temp_df.columns = ['number_no_psc', 'total_companies']\n",
    "temp_df['proportion_no_psc'] = temp_df['number_no_psc'] / \\\n",
    "    temp_df['total_companies']\n",
    "temp_df[temp_df.total_companies > 100].sort_values(\n",
    "    by='proportion_no_psc', ascending=False).head(10)"
   ]
  },
  {
   "cell_type": "code",
   "execution_count": 140,
   "metadata": {},
   "outputs": [
    {
     "name": "stderr",
     "output_type": "stream",
     "text": [
      "/usr/local/lib/python3.5/dist-packages/scipy/stats/stats.py:1713: FutureWarning: Using a non-tuple sequence for multidimensional indexing is deprecated; use `arr[tuple(seq)]` instead of `arr[seq]`. In the future this will be interpreted as an array index, `arr[np.array(seq)]`, which will result either in an error or a different result.\n",
      "  return np.add.reduce(sorted[indexer] * weights, axis=axis) / sumval\n"
     ]
    },
    {
     "data": {
      "text/plain": [
       "<matplotlib.axes._subplots.AxesSubplot at 0x7f7242502588>"
      ]
     },
     "execution_count": 140,
     "metadata": {},
     "output_type": "execute_result"
    },
    {
     "data": {
      "image/png": "[encoded data removed]",
      "text/plain": [
       "<matplotlib.figure.Figure at 0x7f6ec36daba8>"
      ]
     },
     "metadata": {},
     "output_type": "display_data"
    }
   ],
   "source": [
    "# distribution of the proportion of companies with a corporate secret psc at an address\n",
    "sns.distplot(temp_df[temp_df.total_companies > 100].proportion_no_psc)"
   ]
  },
  {
   "cell_type": "code",
   "execution_count": 141,
   "metadata": {},
   "outputs": [
    {
     "data": {
      "text/plain": [
       "count               2,941.00\n",
       "mean                    0.07\n",
       "std                     0.15\n",
       "min                     0.00\n",
       "25%                     0.02\n",
       "50%                     0.03\n",
       "75%                     0.06\n",
       "max                     1.00\n",
       "Name: proportion_no_psc, dtype: float64"
      ]
     },
     "execution_count": 141,
     "metadata": {},
     "output_type": "execute_result"
    }
   ],
   "source": [
    "temp_df[temp_df.total_companies > 100].proportion_no_psc.describe()"
   ]
  },
  {
   "cell_type": "markdown",
   "metadata": {},
   "source": [
    "### Circular control structure"
   ]
  },
  {
   "cell_type": "markdown",
   "metadata": {},
   "source": [
    "#### How many unique companies are part of circular control structures?"
   ]
  },
  {
   "cell_type": "markdown",
   "metadata": {},
   "source": [
    "- Circular control structures can be part of larger structures, so one can't neccessarily infer that if a company is part of such a structure that there is not a human PSC disclosed eslewhere in the corporate structure\n",
    "- This figure includes companies that control themselves"
   ]
  },
  {
   "cell_type": "code",
   "execution_count": 142,
   "metadata": {},
   "outputs": [
    {
     "data": {
      "text/plain": [
       "487"
      ]
     },
     "execution_count": 142,
     "metadata": {},
     "output_type": "execute_result"
    }
   ],
   "source": [
    "circle_companies = graph.run(\n",
    "    \"MATCH p=(c1:Company)<-[:CONTROLS*1..]-(c1:Company) RETURN DISTINCT (c1.company_number)\").to_data_frame()\n",
    "len(circle_companies)"
   ]
  },
  {
   "cell_type": "markdown",
   "metadata": {},
   "source": [
    "####  How many companies control themselves?"
   ]
  },
  {
   "cell_type": "code",
   "execution_count": 2,
   "metadata": {},
   "outputs": [
    {
     "data": {
      "text/plain": [
       "171"
      ]
     },
     "execution_count": 2,
     "metadata": {},
     "output_type": "execute_result"
    }
   ],
   "source": [
    "control_themselves_companies = graph.run(\n",
    "    \"MATCH p=(c1:Company)<-[:CONTROLS]-(c1:Company) RETURN DISTINCT (c1.company_number)\").to_data_frame()\n",
    "len(control_themselves_companies)"
   ]
  },
  {
   "cell_type": "markdown",
   "metadata": {},
   "source": [
    "## Company factories"
   ]
  },
  {
   "cell_type": "markdown",
   "metadata": {},
   "source": [
    "### What are the most common registered addresses for live companies?"
   ]
  },
  {
   "cell_type": "code",
   "execution_count": 143,
   "metadata": {},
   "outputs": [
    {
     "data": {
      "text/plain": [
       "first_and_postcode\n",
       "20-22 WENLOCK ROAD-N1 7GU                   34953\n",
       "71-75 SHELTON STREET-WC2H 9JQ               24778\n",
       "KEMP HOUSE-EC1V 2NX                         19059\n",
       "BRUNEL HOUSE 340 FIRECREST COURT-WA1 1RG    13294\n",
       "27 OLD GLOUCESTER STREET-WC1N 3AX            9727\n",
       "FIRST FLOOR, TELECOM HOUSE-BN1 6AF           6889\n",
       "STRON HOUSE-SW1Y 5EA                         6174\n",
       "69 GREAT HAMPTON STREET-B18 6EW              4815\n",
       "85 GREAT PORTLAND STREET-W1W 7LT             4532\n",
       "UNIT G25 WATERFRONT STUDIOS-E16 1AH          4319\n",
       "Name: company_number, dtype: int64"
      ]
     },
     "execution_count": 143,
     "metadata": {},
     "output_type": "execute_result"
    }
   ],
   "source": [
    "most_common_registered_addresses.sort_values(ascending=False).head(10)"
   ]
  },
  {
   "cell_type": "markdown",
   "metadata": {},
   "source": [
    "### Which addresses have the largest number of PSCs registered there?"
   ]
  },
  {
   "cell_type": "code",
   "execution_count": 144,
   "metadata": {},
   "outputs": [
    {
     "data": {
      "text/html": [
       "<div>\n",
       "<style scoped>\n",
       "    .dataframe tbody tr th:only-of-type {\n",
       "        vertical-align: middle;\n",
       "    }\n",
       "\n",
       "    .dataframe tbody tr th {\n",
       "        vertical-align: top;\n",
       "    }\n",
       "\n",
       "    .dataframe thead th {\n",
       "        text-align: right;\n",
       "    }\n",
       "</style>\n",
       "<table border=\"1\" class=\"dataframe\">\n",
       "  <thead>\n",
       "    <tr style=\"text-align: right;\">\n",
       "      <th></th>\n",
       "      <th></th>\n",
       "      <th></th>\n",
       "      <th></th>\n",
       "      <th>company_number</th>\n",
       "    </tr>\n",
       "    <tr>\n",
       "      <th>address_address_line_1</th>\n",
       "      <th>address_address_line_2</th>\n",
       "      <th>address_country</th>\n",
       "      <th>address_postal_code</th>\n",
       "      <th></th>\n",
       "    </tr>\n",
       "  </thead>\n",
       "  <tbody>\n",
       "    <tr>\n",
       "      <th>340 Firecrest Court</th>\n",
       "      <th>Centre Park</th>\n",
       "      <th>United Kingdom</th>\n",
       "      <th>WA1 1RG</th>\n",
       "      <td>8903</td>\n",
       "    </tr>\n",
       "    <tr>\n",
       "      <th>Coy Pond Business Pk</th>\n",
       "      <th>Ingworth Road</th>\n",
       "      <th>United Kingdom</th>\n",
       "      <th>BH12 1JY</th>\n",
       "      <td>1618</td>\n",
       "    </tr>\n",
       "    <tr>\n",
       "      <th rowspan=\"2\" valign=\"top\">Shelton Street</th>\n",
       "      <th rowspan=\"2\" valign=\"top\">Covent Garden</th>\n",
       "      <th>United Kingdom</th>\n",
       "      <th>WC2H 9JQ</th>\n",
       "      <td>1515</td>\n",
       "    </tr>\n",
       "    <tr>\n",
       "      <th>England</th>\n",
       "      <th>WC2H 9JQ</th>\n",
       "      <td>1460</td>\n",
       "    </tr>\n",
       "    <tr>\n",
       "      <th>Watling Street</th>\n",
       "      <th>Hockliffe</th>\n",
       "      <th>England</th>\n",
       "      <th>LU7 9LS</th>\n",
       "      <td>1452</td>\n",
       "    </tr>\n",
       "    <tr>\n",
       "      <th>Coy Pond Business Park</th>\n",
       "      <th>Ingworth Road</th>\n",
       "      <th>United Kingdom</th>\n",
       "      <th>BH12 1JY</th>\n",
       "      <td>1382</td>\n",
       "    </tr>\n",
       "    <tr>\n",
       "      <th>Great Portland Street</th>\n",
       "      <th>First Floor</th>\n",
       "      <th>England</th>\n",
       "      <th>W1W 7LT</th>\n",
       "      <td>1185</td>\n",
       "    </tr>\n",
       "    <tr>\n",
       "      <th>Everdene House</th>\n",
       "      <th>Deansleigh Road</th>\n",
       "      <th>United Kingdom</th>\n",
       "      <th>BH7 7DU</th>\n",
       "      <td>1033</td>\n",
       "    </tr>\n",
       "    <tr>\n",
       "      <th>High Street</th>\n",
       "      <th>Westbury On Trym</th>\n",
       "      <th>United Kingdom</th>\n",
       "      <th>BS9 3BY</th>\n",
       "      <td>952</td>\n",
       "    </tr>\n",
       "    <tr>\n",
       "      <th>Troon Way Business Centre</th>\n",
       "      <th>Humberstone Lane</th>\n",
       "      <th>England</th>\n",
       "      <th>LE4 9HA</th>\n",
       "      <td>917</td>\n",
       "    </tr>\n",
       "  </tbody>\n",
       "</table>\n",
       "</div>"
      ],
      "text/plain": [
       "                                                                                      company_number\n",
       "address_address_line_1    address_address_line_2 address_country address_postal_code                \n",
       "340 Firecrest Court       Centre Park            United Kingdom  WA1 1RG                        8903\n",
       "Coy Pond Business Pk      Ingworth Road          United Kingdom  BH12 1JY                       1618\n",
       "Shelton Street            Covent Garden          United Kingdom  WC2H 9JQ                       1515\n",
       "                                                 England         WC2H 9JQ                       1460\n",
       "Watling Street            Hockliffe              England         LU7 9LS                        1452\n",
       "Coy Pond Business Park    Ingworth Road          United Kingdom  BH12 1JY                       1382\n",
       "Great Portland Street     First Floor            England         W1W 7LT                        1185\n",
       "Everdene House            Deansleigh Road        United Kingdom  BH7 7DU                        1033\n",
       "High Street               Westbury On Trym       United Kingdom  BS9 3BY                         952\n",
       "Troon Way Business Centre Humberstone Lane       England         LE4 9HA                         917"
      ]
     },
     "execution_count": 144,
     "metadata": {},
     "output_type": "execute_result"
    }
   ],
   "source": [
    "address_fields = ['address_address_line_1',\n",
    "                  'address_address_line_2',\n",
    "                  'address_country',\n",
    "                  'address_postal_code']\n",
    "active_psc_records.groupby(address_fields)[['company_number']].agg(pd.Series.nunique).sort_values(by='company_number', ascending=False).head(10)"
   ]
  },
  {
   "cell_type": "markdown",
   "metadata": {},
   "source": [
    "## Scottlish Limited Partnerships (SLPs) and the PSC regime"
   ]
  },
  {
   "cell_type": "code",
   "execution_count": 145,
   "metadata": {},
   "outputs": [],
   "source": [
    "slps = live_companies[live_companies['company_type'] == 'Limited Partnership for Scotland']"
   ]
  },
  {
   "cell_type": "markdown",
   "metadata": {},
   "source": [
    "### Total number of SLPs in live companies dataset"
   ]
  },
  {
   "cell_type": "markdown",
   "metadata": {},
   "source": [
    "- SLPs do not have to log their dissolution in the same way as Limited Companies. Therefore, many of the SLPs in the live companies dataset are in fact dissolved, however there is no way of distinguishing them in the data available to us."
   ]
  },
  {
   "cell_type": "code",
   "execution_count": 146,
   "metadata": {},
   "outputs": [
    {
     "data": {
      "text/plain": [
       "33579"
      ]
     },
     "execution_count": 146,
     "metadata": {},
     "output_type": "execute_result"
    }
   ],
   "source": [
    "len(slps.company_number.unique())"
   ]
  },
  {
   "cell_type": "markdown",
   "metadata": {},
   "source": [
    "### Most popular registered addresses for SLPs"
   ]
  },
  {
   "cell_type": "code",
   "execution_count": 147,
   "metadata": {},
   "outputs": [
    {
     "data": {
      "text/plain": [
       "first_and_postcode\n",
       "50 LOTHIAN ROAD-EH3 9WJ               3112\n",
       "44 MAIN STREET-ML11 0QW               2537\n",
       "SUITE 1-EH2 1JE                       1657\n",
       "SUITE 1-EH7 5JA                       1612\n",
       "272 BATH STREET-G2 4JR                1534\n",
       "101 ROSE STREET SOUTH LANE-EH2 3JG    1033\n",
       "39/5 GRANTON CRESCENT-EH5 1BN          897\n",
       "12 SOUTH BRIDGE-EH1 1DD                807\n",
       "SUITE 2-EH3 6SW                        783\n",
       "1/2 35 TAITS LANE-DD2 1DZ              691\n",
       "OFFICE 1-G41 3JA                       574\n",
       "EDINBURGH QUAY-EH3 9AG                 489\n",
       "SUITE 1-ML11 0QW                       430\n",
       "SUMMIT HOUSE-EH6 7BD                   348\n",
       "84 PARK ROAD-KY11 2JL                  343\n",
       "45 ROSEHAUGH ROAD-IV3 8SW              318\n",
       "SUITE 6-EH7 5JA                        310\n",
       "SUITE 2-EH7 5JA                        277\n",
       "69 BRUNSWICK STREET-EH7 5HT            252\n",
       "18/2 ROYSTON MAINS STREET-EH5 1LB      226\n",
       "Name: company_number, dtype: int64"
      ]
     },
     "execution_count": 147,
     "metadata": {},
     "output_type": "execute_result"
    }
   ],
   "source": [
    "most_common_registered_addresses_slps = live_companies[live_companies['company_type'] ==\\\n",
    "                                                       'Limited Partnership for Scotland']\\\n",
    "    .groupby(['first_and_postcode'])['company_number']\\\n",
    "        .agg(pd.Series.nunique).sort_values(ascending=False).head(20)\n",
    "most_common_registered_addresses_slps"
   ]
  },
  {
   "cell_type": "code",
   "execution_count": 148,
   "metadata": {},
   "outputs": [
    {
     "data": {
      "text/plain": [
       "regaddress_postcode\n",
       "ML11 0QW    3263\n",
       "EH3 9WJ     3128\n",
       "EH7 5JA     2446\n",
       "EH2 1JE     1661\n",
       "G2 4JR      1576\n",
       "EH6 7BD     1257\n",
       "EH2 3JG     1060\n",
       "EH1 1DD     1045\n",
       "EH3 6SW      995\n",
       "G2 1QX       925\n",
       "EH5 1BN      903\n",
       "KA7 1UB      721\n",
       "DD2 1DZ      696\n",
       "G41 3JA      607\n",
       "EH3 9AG      494\n",
       "KY16 9UR     456\n",
       "EH6 8HH      371\n",
       "KY11 2JL     343\n",
       "FK8 1AL      332\n",
       "IV3 8SW      318\n",
       "Name: company_number, dtype: int64"
      ]
     },
     "execution_count": 148,
     "metadata": {},
     "output_type": "execute_result"
    }
   ],
   "source": [
    "most_common_registered_postcodes_slps = live_companies[live_companies['company_type'] == 'Limited Partnership for Scotland']\\\n",
    ".groupby(['regaddress_postcode'])['company_number']\\\n",
    "    .agg(pd.Series.nunique)\\\n",
    "    .sort_values(ascending=False).head(20)\n",
    "most_common_registered_postcodes_slps\n"
   ]
  },
  {
   "cell_type": "markdown",
   "metadata": {},
   "source": [
    "### Incorporation rate of SLPs"
   ]
  },
  {
   "cell_type": "code",
   "execution_count": 149,
   "metadata": {},
   "outputs": [],
   "source": [
    "live_companies['incorporation_date_formatted'] = pd.to_datetime(live_companies.incorporationdate, format='%d/%m/%Y', errors='coerce')"
   ]
  },
  {
   "cell_type": "code",
   "execution_count": 150,
   "metadata": {},
   "outputs": [
    {
     "data": {
      "text/plain": [
       "<matplotlib.axes._subplots.AxesSubplot at 0x7f6ee9087438>"
      ]
     },
     "execution_count": 150,
     "metadata": {},
     "output_type": "execute_result"
    },
    {
     "data": {
      "image/png": "[encoded data removed]",
      "text/plain": [
       "<matplotlib.figure.Figure at 0x7f6ee9087a58>"
      ]
     },
     "metadata": {},
     "output_type": "display_data"
    }
   ],
   "source": [
    "slp_timeseries = live_companies[live_companies['company_type'] ==\n",
    "                                'Limited Partnership for Scotland'].set_index(\n",
    "    'incorporation_date_formatted').copy()\n",
    "temp_timeseries = slp_timeseries.resample('Q').count()['company_number']\n",
    "temp_timeseries.plot(figsize=(20, 10), xlim=('2009-01-01', '2019-01-03'))"
   ]
  },
  {
   "cell_type": "markdown",
   "metadata": {},
   "source": [
    "#### How does this compare to other Partnership types not covered by thge PSC legislation?"
   ]
  },
  {
   "cell_type": "code",
   "execution_count": 151,
   "metadata": {},
   "outputs": [
    {
     "data": {
      "text/plain": [
       "<matplotlib.axes._subplots.AxesSubplot at 0x7f6ee9087160>"
      ]
     },
     "execution_count": 151,
     "metadata": {},
     "output_type": "execute_result"
    },
    {
     "data": {
      "image/png": "[encoded data removed]",
      "text/plain": [
       "<matplotlib.figure.Figure at 0x7f71ca6919b0>"
      ]
     },
     "metadata": {},
     "output_type": "display_data"
    }
   ],
   "source": [
    "nlp_timeseries = live_companies[live_companies['company_type'] ==\n",
    "                                  'Limited Partnership for Northern Ireland']\\\n",
    "    .set_index('incorporation_date_formatted').copy()\n",
    "temp_timeseries_1 = nlp_timeseries.resample('Q').count()['company_number']\n",
    "elp_timeseries = live_companies[live_companies['company_type'] ==\n",
    "                                'Limited Partnership for England & Wales']\\\n",
    "    .set_index('incorporation_date_formatted').copy()\n",
    "temp_timeseries_2 = elp_timeseries.resample('Q').count()['company_number']\n",
    "elp_nlp_combined = pd.concat([temp_timeseries_1, temp_timeseries_2], axis=1)\n",
    "elp_nlp_combined.columns = ['NLP', 'ELP']\n",
    "elp_nlp_combined['2009':'2019'].plot(\n",
    "    figsize=(20, 10), xlim=('2009-01-01', '2019-01-03'))"
   ]
  },
  {
   "cell_type": "markdown",
   "metadata": {},
   "source": [
    "### How many and what proportion of SLPs have reported that they have at least one PSC?"
   ]
  },
  {
   "cell_type": "code",
   "execution_count": 152,
   "metadata": {},
   "outputs": [
    {
     "name": "stdout",
     "output_type": "stream",
     "text": [
      "Number of SLPs with at least one declared PSC: 10378\n",
      "Proportion of SLPs in live companies dataset that declared a PSC: 0.31\n"
     ]
    }
   ],
   "source": [
    "print('Number of SLPs with at least one declared PSC: ' +\n",
    "      str(len(active_psc_records[active_psc_records.company_type ==\n",
    "                                 'Limited Partnership for Scotland'].company_number.unique())))\n",
    "print('Proportion of SLPs in live companies dataset that declared a PSC: ' +\n",
    "      str(round(len(active_psc_records[active_psc_records.company_type == 'Limited Partnership for Scotland']\\\n",
    "                    .company_number.unique()) / len(slps.company_number.unique()), 2)))"
   ]
  },
  {
   "cell_type": "markdown",
   "metadata": {},
   "source": [
    "### How many and what proportion of SLPs have filed a statement of any kind?"
   ]
  },
  {
   "cell_type": "code",
   "execution_count": 153,
   "metadata": {},
   "outputs": [
    {
     "name": "stdout",
     "output_type": "stream",
     "text": [
      "Number of SLPs that have declared at least one statement: 5561\n",
      "Proportion of SLPs in live companies dataset that declared a statement: 0.17\n"
     ]
    }
   ],
   "source": [
    "print('Number of SLPs that have declared at least one statement: ' +\n",
    "      str(len(active_psc_statements[active_psc_statements.company_number.isin(slps.company_number)]\\\n",
    "              .company_number.unique())))\n",
    "print('Proportion of SLPs in live companies dataset that declared a statement: ' +\n",
    "      str(round(len(active_psc_statements[active_psc_statements.company_number.isin(slps.company_number)]\\\n",
    "                    .company_number.unique()) / len(slps.company_number.unique()), 2)))"
   ]
  },
  {
   "cell_type": "markdown",
   "metadata": {},
   "source": [
    "### What nationality are PSCs for SLPs?"
   ]
  },
  {
   "cell_type": "code",
   "execution_count": 154,
   "metadata": {},
   "outputs": [
    {
     "data": {
      "text/plain": [
       "Ukrainian      1805\n",
       "Russian        1410\n",
       "British         983\n",
       "Belarusian      286\n",
       "Latvian         244\n",
       "Uzbek           220\n",
       "Azerbaijani     147\n",
       "Kazakh          118\n",
       "American        101\n",
       "Israeli          97\n",
       "Name: nationality, dtype: int64"
      ]
     },
     "execution_count": 154,
     "metadata": {},
     "output_type": "execute_result"
    }
   ],
   "source": [
    "active_psc_records[active_psc_records.company_number.isin(slps.company_number)].nationality.value_counts().head(10)"
   ]
  },
  {
   "cell_type": "markdown",
   "metadata": {},
   "source": [
    "### What proportion of SLP PSCs have an addresses or a nationality from a from  former Soviet country?"
   ]
  },
  {
   "cell_type": "code",
   "execution_count": 155,
   "metadata": {},
   "outputs": [
    {
     "name": "stdout",
     "output_type": "stream",
     "text": [
      "Number of companies (all types) with former Soviet country PSCs: 12333\n",
      "Number of SLPs with former Soviet country PSCs: 4244\n",
      "Proportion of Private Limited Company PSCs that are from former Soviet countries: 0.0\n",
      "Proportion of SLP PSCs that are from former Soviet countries: 0.409\n"
     ]
    }
   ],
   "source": [
    "soviet_countries = ['Armenia',\n",
    "                    'Azerbaijan',\n",
    "                    'Belarus',\n",
    "                    'Estonia',\n",
    "                    'Georgia',\n",
    "                    'Kazakhstan',\n",
    "                    'Kyrgyzstan',\n",
    "                    'Latvia',\n",
    "                    'Lithuania',\n",
    "                    'Moldova',\n",
    "                    'Russia',\n",
    "                    'Russian Federation',\n",
    "                    'Tajikistan',\n",
    "                    'Turkmenistan',\n",
    "                    'Ukraine',\n",
    "                    'Uzbekistan']\n",
    "soviet_countries = [x.upper() for x in soviet_countries]\n",
    "soviet_pscs = active_psc_records[(active_psc_records.country_of_residence_normal.isin(\n",
    "    soviet_countries)) | (active_psc_records.address_country_normal.isin(soviet_countries))]\n",
    "print('Number of companies (all types) with former Soviet country PSCs: ' +\n",
    "      str(len(soviet_pscs.company_number.unique())))\n",
    "print('Number of SLPs with former Soviet country PSCs: ' +\n",
    "      str(len(soviet_pscs[soviet_pscs.company_number.str.startswith('SL')].company_number.unique())))\n",
    "# proportion of slps that reported which have at least one soviet psc (just using psc data)\n",
    "private_limited_company_numbers = live_companies[live_companies.companycategory ==\n",
    "                                                   'Private Limited Company'].company_number.unique()\n",
    "print('Proportion of Private Limited Company PSCs that are from former Soviet countries: ' +\n",
    "      str(round(len(active_psc_records[(active_psc_records.company_number.isin(\n",
    "    private_limited_company_numbers) &(active_psc_records.company_number.str.startswith('SL')))]\\\n",
    "                    .company_number.unique()) / len(active_psc_records.company_number.unique()), 3)))\n",
    "print('Proportion of SLP PSCs that are from former Soviet countries: ' +\n",
    "      str(round(len(active_psc_records[(active_psc_records\\\n",
    "                                        .company_number.isin(soviet_pscs.company_number.unique()) & (\n",
    "    active_psc_records.company_number.str.startswith('SL')))].company_number.unique()) /\\\n",
    "                len(active_psc_records[active_psc_records.company_number.str.startswith('SL')]\\\n",
    "                    .company_number.unique()), 3)))"
   ]
  },
  {
   "cell_type": "markdown",
   "metadata": {},
   "source": [
    " - Proportions are over just those companies that hvae filed a PSC"
   ]
  },
  {
   "cell_type": "code",
   "execution_count": 156,
   "metadata": {},
   "outputs": [
    {
     "name": "stdout",
     "output_type": "stream",
     "text": [
      "Overall percentage of Soviet PSCs for all companies: 0.003\n"
     ]
    },
    {
     "data": {
      "text/html": [
       "<div>\n",
       "<style scoped>\n",
       "    .dataframe tbody tr th:only-of-type {\n",
       "        vertical-align: middle;\n",
       "    }\n",
       "\n",
       "    .dataframe tbody tr th {\n",
       "        vertical-align: top;\n",
       "    }\n",
       "\n",
       "    .dataframe thead th {\n",
       "        text-align: right;\n",
       "    }\n",
       "</style>\n",
       "<table border=\"1\" class=\"dataframe\">\n",
       "  <thead>\n",
       "    <tr style=\"text-align: right;\">\n",
       "      <th></th>\n",
       "      <th>number_companies_with_a_former_soviet_psc</th>\n",
       "      <th>total_companies</th>\n",
       "      <th>proportion_of_companies_with_a_former_soviet_psc</th>\n",
       "    </tr>\n",
       "    <tr>\n",
       "      <th>company_type</th>\n",
       "      <th></th>\n",
       "      <th></th>\n",
       "      <th></th>\n",
       "    </tr>\n",
       "  </thead>\n",
       "  <tbody>\n",
       "    <tr>\n",
       "      <th>Limited Partnership for Scotland</th>\n",
       "      <td>4,244.00</td>\n",
       "      <td>10378</td>\n",
       "      <td>0.41</td>\n",
       "    </tr>\n",
       "    <tr>\n",
       "      <th>Limited Liability Partnership for England &amp; Wales</th>\n",
       "      <td>1,889.00</td>\n",
       "      <td>40980</td>\n",
       "      <td>0.05</td>\n",
       "    </tr>\n",
       "    <tr>\n",
       "      <th>Limited Liability Partnership for Scotland</th>\n",
       "      <td>117.00</td>\n",
       "      <td>2542</td>\n",
       "      <td>0.05</td>\n",
       "    </tr>\n",
       "    <tr>\n",
       "      <th>Limited Liability Partnership for Northern Ireland</th>\n",
       "      <td>24.00</td>\n",
       "      <td>526</td>\n",
       "      <td>0.05</td>\n",
       "    </tr>\n",
       "    <tr>\n",
       "      <th>European Company (Societas Europaea) for England &amp; Wales</th>\n",
       "      <td>1.00</td>\n",
       "      <td>38</td>\n",
       "      <td>0.03</td>\n",
       "    </tr>\n",
       "    <tr>\n",
       "      <th>England &amp; Wales Company</th>\n",
       "      <td>5,802.00</td>\n",
       "      <td>3492943</td>\n",
       "      <td>0.00</td>\n",
       "    </tr>\n",
       "    <tr>\n",
       "      <th>Scottish Company</th>\n",
       "      <td>239.00</td>\n",
       "      <td>197329</td>\n",
       "      <td>0.00</td>\n",
       "    </tr>\n",
       "    <tr>\n",
       "      <th>Unregistered Companies (S 1043 - Not Cos Act) for England &amp; Wales</th>\n",
       "      <td>0.00</td>\n",
       "      <td>11</td>\n",
       "      <td>0.00</td>\n",
       "    </tr>\n",
       "    <tr>\n",
       "      <th>Unregistered Companies (S 1043 Not Cos Act) for Scotland</th>\n",
       "      <td>0.00</td>\n",
       "      <td>3</td>\n",
       "      <td>0.00</td>\n",
       "    </tr>\n",
       "  </tbody>\n",
       "</table>\n",
       "</div>"
      ],
      "text/plain": [
       "                                                    number_companies_with_a_former_soviet_psc  \\\n",
       "company_type                                                                                    \n",
       "Limited Partnership for Scotland                                                     4,244.00   \n",
       "Limited Liability Partnership for England & Wales                                    1,889.00   \n",
       "Limited Liability Partnership for Scotland                                             117.00   \n",
       "Limited Liability Partnership for Northern Ireland                                      24.00   \n",
       "European Company (Societas Europaea) for Englan...                                       1.00   \n",
       "England & Wales Company                                                              5,802.00   \n",
       "Scottish Company                                                                       239.00   \n",
       "Unregistered Companies (S 1043 - Not Cos Act) f...                                       0.00   \n",
       "Unregistered Companies (S 1043 Not Cos Act) for...                                       0.00   \n",
       "\n",
       "                                                    total_companies  \\\n",
       "company_type                                                          \n",
       "Limited Partnership for Scotland                              10378   \n",
       "Limited Liability Partnership for England & Wales             40980   \n",
       "Limited Liability Partnership for Scotland                     2542   \n",
       "Limited Liability Partnership for Northern Ireland              526   \n",
       "European Company (Societas Europaea) for Englan...               38   \n",
       "England & Wales Company                                     3492943   \n",
       "Scottish Company                                             197329   \n",
       "Unregistered Companies (S 1043 - Not Cos Act) f...               11   \n",
       "Unregistered Companies (S 1043 Not Cos Act) for...                3   \n",
       "\n",
       "                                                    proportion_of_companies_with_a_former_soviet_psc  \n",
       "company_type                                                                                          \n",
       "Limited Partnership for Scotland                                                                0.41  \n",
       "Limited Liability Partnership for England & Wales                                               0.05  \n",
       "Limited Liability Partnership for Scotland                                                      0.05  \n",
       "Limited Liability Partnership for Northern Ireland                                              0.05  \n",
       "European Company (Societas Europaea) for Englan...                                              0.03  \n",
       "England & Wales Company                                                                         0.00  \n",
       "Scottish Company                                                                                0.00  \n",
       "Unregistered Companies (S 1043 - Not Cos Act) f...                                              0.00  \n",
       "Unregistered Companies (S 1043 Not Cos Act) for...                                              0.00  "
      ]
     },
     "execution_count": 156,
     "metadata": {},
     "output_type": "execute_result"
    }
   ],
   "source": [
    "active_psc_records['former_soviet'] = (active_psc_records.country_of_residence_normal.isin(\n",
    "    soviet_countries)) | (active_psc_records.address_country_normal.isin(soviet_countries))\n",
    "company_type_totals = pd.DataFrame(active_psc_records.groupby(\n",
    "    'company_type').agg(pd.Series.nunique)['company_number'])\n",
    "company_type_totals.columns = ['totals']\n",
    "temp_df = active_psc_records.pivot_table(\n",
    "    index='company_type',\n",
    "    values='company_number',\n",
    "    columns='former_soviet',\n",
    "    aggfunc=pd.Series.nunique)\n",
    "temp_df = pd.merge(temp_df, company_type_totals,\n",
    "                   left_index=True, right_index=True)\n",
    "temp_df['proportion'] = temp_df[True] / temp_df['totals']\n",
    "temp_df = temp_df[[True, 'totals', 'proportion']].fillna(0)\n",
    "temp_df.columns = ['number_companies_with_a_former_soviet_psc',\n",
    "                   'total_companies',\n",
    "                   'proportion_of_companies_with_a_former_soviet_psc']\n",
    "print(\"Overall percentage of Soviet PSCs for all companies: \" +\n",
    "      str(round(len(active_psc_records[active_psc_records.former_soviet == True]\\\n",
    "                    .company_number.unique()) / len(active_psc_records.company_number.unique()), 3)))\n",
    "temp_df = temp_df.sort_values(\n",
    "    by='proportion_of_companies_with_a_former_soviet_psc', ascending=False)\n",
    "temp_df"
   ]
  },
  {
   "cell_type": "markdown",
   "metadata": {},
   "source": [
    "# Red flags"
   ]
  },
  {
   "cell_type": "markdown",
   "metadata": {},
   "source": [
    "In this section we encode a set of red flags that indicate risks for corruption, financial crime and money laundering based on guidance from the FATF, UK Government, OECD and past Global Witness reports, amongst other sources. More details on this in the original [*The Companies We Keep*](https://www.globalwitness.org/en/campaigns/corruption-and-money-laundering/anonymous-company-owners/companies-we-keep/) briefing."
   ]
  },
  {
   "cell_type": "code",
   "execution_count": 10,
   "metadata": {},
   "outputs": [],
   "source": [
    "def registered_at_mailbox(df):\n",
    "    live_companies.first_and_postcode = live_companies.first_and_postcode.fillna(\n",
    "        '')\n",
    "    grouped = active_psc_records.groupby(['company_first_and_postcode'])\n",
    "    groups = grouped.size()\n",
    "    groups = groups[groups > 1000]\n",
    "    groups = groups.index.values\n",
    "    company_numbers = []\n",
    "    for group in groups:\n",
    "        l = grouped.get_group(group).company_number.tolist()\n",
    "        company_numbers.extend(l)\n",
    "    df['registered_at_mailbox'] = df.company_number.isin(company_numbers)\n",
    "    return df\n",
    "\n",
    "\n",
    "def controlled_by_popular_person(df):\n",
    "    grouped = active_psc_records.groupby(\n",
    "        ['name_elements_forename', 'name_elements_surname', 'month_year_birth', 'address_postal_code'])\n",
    "    groups = grouped.size()\n",
    "    groups = groups[groups > 100]\n",
    "    groups = groups.index.values\n",
    "    company_numbers = []\n",
    "    for group in groups:\n",
    "        l = grouped.get_group(group).company_number.tolist()\n",
    "        company_numbers.extend(l)\n",
    "    df['controlled_by_popular_person'] = df.company_number.isin(\n",
    "        company_numbers)\n",
    "    return df\n",
    "\n",
    "\n",
    "def company_controlled_by_trust(df):\n",
    "    company_numbers = list(set(active_psc_controls[active_psc_controls.nature_of_control.str.contains(\n",
    "        'trust')].company_number.tolist()))\n",
    "    df['controlled_via_trust'] = df.company_number.isin(company_numbers)\n",
    "    return df\n",
    "\n",
    "\n",
    "def beneficial_owners_or_officers_are_based_in_secrecy_jurisdiction(df):\n",
    "    company_numbers_pscs = active_psc_records[active_psc_records.secret_base == True].company_number.unique(\n",
    "    ).tolist()\n",
    "    company_numbers_officers = active_officers[active_officers.secret_base ==\n",
    "                                               True].company_number.unique().tolist()\n",
    "    company_numbers_combined = list(\n",
    "        set(company_numbers_pscs + company_numbers_officers))\n",
    "    df['officer_or_psc_based_in_secrecy_jurisdiction'] = df.company_number.isin(\n",
    "        company_numbers_combined)\n",
    "    return df\n",
    "\n",
    "\n",
    "def politician_officer_or_psc_of_company(df):\n",
    "    officers_company_numbers = active_officers[active_officers.possible_politician == True].company_number.tolist(\n",
    "    )\n",
    "    active_psc_records.join_id.fillna('', inplace=True)\n",
    "    psc_company_numbers = active_psc_records[active_psc_records.possible_politician == True].company_number.tolist(\n",
    "    )\n",
    "    company_numbers = list(set(psc_company_numbers + officers_company_numbers))\n",
    "    df['politician_officer_or_psc'] = df.company_number.isin(company_numbers)\n",
    "    return df\n",
    "\n",
    "\n",
    "def changes_name_a_lot(df):\n",
    "    d = live_companies[['company_number', 'first_and_postcode', 'previousname_1_condate',\n",
    "                        'previousname_1_companyname', 'previousname_2_condate',\n",
    "                        'previousname_2_companyname', 'previousname_3_condate',\n",
    "                        'previousname_3_companyname', 'previousname_4_condate',\n",
    "                        'previousname_4_companyname', 'previousname_5_condate',\n",
    "                        'previousname_5_companyname', 'previousname_6_condate',\n",
    "                        'previousname_6_companyname', 'previousname_7_condate',\n",
    "                        'previousname_7_companyname', 'previousname_8_condate',\n",
    "                        'previousname_8_companyname', 'previousname_9_condate',\n",
    "                        'previousname_9_companyname', 'previousname_10_condate',\n",
    "                        'previousname_10_companyname']].copy()\n",
    "    d.set_index(['company_number', 'first_and_postcode'], inplace=True)\n",
    "    new_columns = [x.replace('previousname_', '') for x in d.columns]\n",
    "    new_columns = [tuple(x.split('_')) for x in new_columns]\n",
    "    d.columns = pd.MultiIndex.from_tuples(new_columns)\n",
    "    stacked_previous_names = d.stack(level=0).dropna().reset_index()\n",
    "    counts = stacked_previous_names.company_number.value_counts()\n",
    "    company_numbers = counts[counts > 5].index.tolist()\n",
    "    df['lots_of_name_changes'] = df.company_number.isin(company_numbers)\n",
    "    return df\n",
    "\n",
    "\n",
    "def disqualified_directors(df):\n",
    "    company_numbers = active_psc_records[active_psc_records.psc_likely_disqualified_director ==\n",
    "                                         True].company_number.tolist()\n",
    "    df['disqualified_director_is_psc'] = df.company_number.isin(\n",
    "        company_numbers)\n",
    "    return df\n",
    "\n",
    "\n",
    "def company_shares_officer_psc_or_postcode_with_suspected_ml_company(df):\n",
    "    ti_data = pd.read_csv(fs.open(\n",
    "        '{}interim/transparency_international_ml_company_data.csv'.format(ROOT_DIR)))\n",
    "    ml_companies = ti_data['Company Number'].dropna().tolist()\n",
    "    query_string = 'MATCH (c1:Company)-[*2]-(c2:Company) WHERE c1.uid IN {} AND NOT c2.uid = c1.uid RETURN c2.uid'.format(\n",
    "        ml_companies)\n",
    "    connected_companies = graph.run(query_string).data()\n",
    "    connected_companies = [x['c2.uid'] for x in connected_companies]\n",
    "    df['company_shares_officer_psc_or_postcode_with_suspected_ml_company'] = df.company_number.isin(\n",
    "        connected_companies)\n",
    "    return df"
   ]
  },
  {
   "cell_type": "code",
   "execution_count": 11,
   "metadata": {},
   "outputs": [],
   "source": [
    "red_flags = [registered_at_mailbox, controlled_by_popular_person,\n",
    "             company_controlled_by_trust,\n",
    "             beneficial_owners_or_officers_are_based_in_secrecy_jurisdiction,\n",
    "             politician_officer_or_psc_of_company,\n",
    "             changes_name_a_lot, disqualified_directors, company_shares_officer_psc_or_postcode_with_suspected_ml_company]\n",
    "for function in red_flags:\n",
    "    live_companies = function(live_companies)\n",
    "red_flag_columns = live_companies.columns[-8:]"
   ]
  },
  {
   "cell_type": "code",
   "execution_count": 12,
   "metadata": {},
   "outputs": [
    {
     "data": {
      "text/html": [
       "<div>\n",
       "<style scoped>\n",
       "    .dataframe tbody tr th:only-of-type {\n",
       "        vertical-align: middle;\n",
       "    }\n",
       "\n",
       "    .dataframe tbody tr th {\n",
       "        vertical-align: top;\n",
       "    }\n",
       "\n",
       "    .dataframe thead th {\n",
       "        text-align: right;\n",
       "    }\n",
       "</style>\n",
       "<table border=\"1\" class=\"dataframe\">\n",
       "  <thead>\n",
       "    <tr style=\"text-align: right;\">\n",
       "      <th></th>\n",
       "      <th>number_of_companies_with_red_flag</th>\n",
       "    </tr>\n",
       "    <tr>\n",
       "      <th>red_flag</th>\n",
       "      <th></th>\n",
       "    </tr>\n",
       "  </thead>\n",
       "  <tbody>\n",
       "    <tr>\n",
       "      <th>registered_at_mailbox</th>\n",
       "      <td>228295</td>\n",
       "    </tr>\n",
       "    <tr>\n",
       "      <th>controlled_by_popular_person</th>\n",
       "      <td>6711</td>\n",
       "    </tr>\n",
       "    <tr>\n",
       "      <th>controlled_via_trust</th>\n",
       "      <td>130448</td>\n",
       "    </tr>\n",
       "    <tr>\n",
       "      <th>officer_or_psc_based_in_secrecy_jurisdiction</th>\n",
       "      <td>136682</td>\n",
       "    </tr>\n",
       "    <tr>\n",
       "      <th>politician_officer_or_psc</th>\n",
       "      <td>1519</td>\n",
       "    </tr>\n",
       "    <tr>\n",
       "      <th>lots_of_name_changes</th>\n",
       "      <td>417</td>\n",
       "    </tr>\n",
       "    <tr>\n",
       "      <th>disqualified_director_is_psc</th>\n",
       "      <td>2083</td>\n",
       "    </tr>\n",
       "    <tr>\n",
       "      <th>company_shares_officer_psc_or_postcode_with_suspected_ml_company</th>\n",
       "      <td>17259</td>\n",
       "    </tr>\n",
       "  </tbody>\n",
       "</table>\n",
       "</div>"
      ],
      "text/plain": [
       "                                                    number_of_companies_with_red_flag\n",
       "red_flag                                                                             \n",
       "registered_at_mailbox                                                          228295\n",
       "controlled_by_popular_person                                                     6711\n",
       "controlled_via_trust                                                           130448\n",
       "officer_or_psc_based_in_secrecy_jurisdiction                                   136682\n",
       "politician_officer_or_psc                                                        1519\n",
       "lots_of_name_changes                                                              417\n",
       "disqualified_director_is_psc                                                     2083\n",
       "company_shares_officer_psc_or_postcode_with_sus...                              17259"
      ]
     },
     "execution_count": 12,
     "metadata": {},
     "output_type": "execute_result"
    }
   ],
   "source": [
    "temp_df = pd.DataFrame(live_companies[red_flag_columns].sum(axis=0))\n",
    "temp_df.columns = ['number_of_companies_with_red_flag']\n",
    "temp_df.index.name = 'red_flag'\n",
    "temp_df"
   ]
  },
  {
   "cell_type": "markdown",
   "metadata": {},
   "source": [
    "## Distribution of the number of red flags per company"
   ]
  },
  {
   "cell_type": "code",
   "execution_count": 13,
   "metadata": {},
   "outputs": [
    {
     "data": {
      "text/plain": [
       "0    3836019\n",
       "1     438616\n",
       "2      39813\n",
       "3       1696\n",
       "4         21\n",
       "Name: sum_red_flags, dtype: int64"
      ]
     },
     "execution_count": 13,
     "metadata": {},
     "output_type": "execute_result"
    }
   ],
   "source": [
    "live_companies['sum_red_flags'] = live_companies[red_flag_columns].sum(axis=1)\n",
    "live_companies.sum_red_flags.value_counts()"
   ]
  }
 ],
 "metadata": {
  "kernelspec": {
   "display_name": "Python 3",
   "language": "python",
   "name": "python3"
  },
  "language_info": {
   "codemirror_mode": {
    "name": "ipython",
    "version": 3
   },
   "file_extension": ".py",
   "mimetype": "text/x-python",
   "name": "python",
   "nbconvert_exporter": "python",
   "pygments_lexer": "ipython3",
   "version": "3.5.2"
  },
  "toc": {
   "base_numbering": 1,
   "nav_menu": {},
   "number_sections": true,
   "sideBar": true,
   "skip_h1_title": false,
   "title_cell": "Table of Contents",
   "title_sidebar": "Contents",
   "toc_cell": true,
   "toc_position": {
    "height": "calc(100% - 180px)",
    "left": "10px",
    "top": "150px",
    "width": "364px"
   },
   "toc_section_display": true,
   "toc_window_display": true
  }
 },
 "nbformat": 4,
 "nbformat_minor": 2
}
